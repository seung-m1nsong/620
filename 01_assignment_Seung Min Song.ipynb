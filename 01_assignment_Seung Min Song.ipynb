{
  "cells": [
    {
      "cell_type": "markdown",
      "metadata": {
        "id": "view-in-github"
      },
      "source": [
        "<a href=\"https://colab.research.google.com/github/data602sps/assignments/blob/master/05_assignment.ipynb\" target=\"_parent\"><img src=\"https://colab.research.google.com/assets/colab-badge.svg\" alt=\"Open In Colab\"/></a>"
      ]
    },
    {
      "cell_type": "markdown",
      "metadata": {
        "id": "rd2QZetSDszc"
      },
      "source": [
        "# **Assignment: “hello, graph world”**\n",
        "\n",
        "When software developers are starting to work in a new environment, they are encouraged to start with a simple “beachhead” program.\n",
        "\n",
        "In this assignment, you’re asked to create the nodes and edges for a basic graph, such as the Krackhardt kite shown below. (You’re welcome to substitute data of your own choosing).\n",
        "\n",
        "You may use a package of your own choosing, such as iGraph or NetworkX, or…? Your code should be delivered in an IPython notebook, and placed into GitHub. In your assignment link, please provide a link to your GitHub repository."
      ]
    },
    {
      "cell_type": "code",
      "execution_count": null,
      "metadata": {},
      "outputs": [],
      "source": [
        "import pandas as pd\n",
        "import networkx as nx\n",
        "H = nx.DiGraph()\n",
        "\n",
        "H.add_nodes_from([\n",
        "  (0, {\"color\": \"gray\", \"size\": 450}),\n",
        "  (1, {\"color\": \"yellow\", \"size\": 700}),\n",
        "  (2, {\"color\": \"red\", \"size\": 250}),\n",
        "  (3, {\"color\": \"pink\", \"size\": 500})\n",
        "])\n",
        "for node in H.nodes(data=True):\n",
        "  print(node)\n",
        "> (0, {'color': 'gray', 'size': 450})\n",
        "> (1, {'color': 'yellow', 'size': 700})\n",
        "> (2, {'color': 'red', 'size': 250})\n",
        "> (3, {'color': 'pink', 'size': 500})\n",
        "\n",
        "### 파이썬 프로그래밍 코드\n",
        "\n",
        "H.add_edges_from([\n",
        "  (0, 1),\n",
        "  (1, 2),\n",
        "  (2, 0),\n",
        "  (2, 3),\n",
        "  (3, 2)\n",
        "])\n",
        "print(H.edges())\n",
        "> [(0, 1), (1, 2), (2, 0), (2, 3), (3, 2)]\n",
        "\n",
        "### 파이썬 프로그래밍 코드\n",
        "\n",
        "def print_graph_info(graph):\n",
        "  print(\"Directed graph:\", graph.is_directed())\n",
        "  print(\"Number of nodes:\", graph.number_of_nodes())\n",
        "  print(\"Number of edges:\", graph.number_of_edges())\n",
        "print_graph_info(H)\n",
        "> Directed graph: True\n",
        "> Number of nodes: 4\n",
        "\n",
        "### 파이썬 프로그래밍 코드\n",
        "\n",
        "node_colors = nx.get_node_attributes(H, \"color\").values()\n",
        "colors = list(node_colors)\n",
        "node_sizes = nx.get_node_attributes(H, \"size\").values()\n",
        "sizes = list(node_sizes)\n",
        "nx.draw(H, with_labels=True, node_color=colors, node_size=sizes)"
      ]
    },
    {
      "cell_type": "code",
      "execution_count": null,
      "metadata": {},
      "outputs": [],
      "source": []
    }
  ],
  "metadata": {
    "colab": {
      "name": "07_assignment.ipynb",
      "provenance": []
    },
    "kernelspec": {
      "display_name": "Python 3",
      "name": "python3"
    },
    "language_info": {
      "codemirror_mode": {
        "name": "ipython",
        "version": 3
      },
      "file_extension": ".py",
      "mimetype": "text/x-python",
      "name": "python",
      "nbconvert_exporter": "python",
      "pygments_lexer": "ipython3",
      "version": "3.11.1"
    }
  },
  "nbformat": 4,
  "nbformat_minor": 0
}

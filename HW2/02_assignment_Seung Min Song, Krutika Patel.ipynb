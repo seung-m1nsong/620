{
 "cells": [
  {
   "cell_type": "markdown",
   "metadata": {
    "id": "view-in-github"
   },
   "source": [
    "<a href=\"https://colab.research.google.com/github/data602sps/assignments/blob/master/05_assignment.ipynb\" target=\"_parent\"><img src=\"https://colab.research.google.com/assets/colab-badge.svg\" alt=\"Open In Colab\"/></a>"
   ]
  },
  {
   "cell_type": "markdown",
   "metadata": {},
   "source": [
    "# **Data 620**\n",
    "Seung Min Song, Krutika Patel<br>\n",
    "\n",
    "02/11/2024\n",
    "\n",
    "\n"
   ]
  },
  {
   "cell_type": "markdown",
   "metadata": {
    "id": "rd2QZetSDszc"
   },
   "source": [
    "# **Assignment: Graph Visualization**\n",
    "\n",
    "Graph Visualization\n",
    "\n",
    "This week's assignment is to:\n",
    "\n",
    "1. Load a graph dataset of your choosing from a text file or other source.  If you take a large network dataset from the web (such as from Stanford Large Network Dataset Collection), please feel free at this point to load just a small subset of the nodes and edges.\n",
    "2. Create basic analysis on the graph, including the graph’s diameter, and at least one other metric of your choosing.  You may either code the functions by hand (to build your intuition and insight), or use functions in an existing package. \n",
    "3. Use a visualization tool of your choice (NetworkX, Gephi, Pyvis, etc.) to display information.\n",
    "4. Please record a short video (~ 5 minutes), and submit a link to the video in advance of our meet-up."
   ]
  },
  {
   "cell_type": "markdown",
   "metadata": {},
   "source": [
    "# **Overview**\n",
    "\n",
    "Network analysis is one of the basic techniques of big data analysis. It is a technique to understand data relationships through a network and find central data. At its most basic, it can analyze networks between people, but it can be used in infinite ways if you want to analyze relationships such as words, websites, and countries.\n",
    "\n",
    "Among them, today we will create a network of actors who appeared in the same work through imdb movie-related data, and see if they are all connected to each other and who will be the most popular.\n",
    "\n",
    "## **Data Source**\n",
    "\n",
    "Downloaded the csv data table from the link below:\n",
    "* https://www.kaggle.com/datasets/darinhawley/imdb-films-by-actor-for-10k-actors"
   ]
  },
  {
   "cell_type": "code",
   "execution_count": 2,
   "metadata": {},
   "outputs": [
    {
     "data": {
      "text/html": [
       "<div>\n",
       "<style scoped>\n",
       "    .dataframe tbody tr th:only-of-type {\n",
       "        vertical-align: middle;\n",
       "    }\n",
       "\n",
       "    .dataframe tbody tr th {\n",
       "        vertical-align: top;\n",
       "    }\n",
       "\n",
       "    .dataframe thead th {\n",
       "        text-align: right;\n",
       "    }\n",
       "</style>\n",
       "<table border=\"1\" class=\"dataframe\">\n",
       "  <thead>\n",
       "    <tr style=\"text-align: right;\">\n",
       "      <th></th>\n",
       "      <th>Actor</th>\n",
       "      <th>ActorID</th>\n",
       "      <th>Film</th>\n",
       "      <th>Year</th>\n",
       "      <th>Votes</th>\n",
       "      <th>Rating</th>\n",
       "      <th>FilmID</th>\n",
       "    </tr>\n",
       "  </thead>\n",
       "  <tbody>\n",
       "    <tr>\n",
       "      <th>0</th>\n",
       "      <td>Fred Astaire</td>\n",
       "      <td>nm0000001</td>\n",
       "      <td>Ghost Story</td>\n",
       "      <td>1981</td>\n",
       "      <td>7731</td>\n",
       "      <td>6.3</td>\n",
       "      <td>tt0082449</td>\n",
       "    </tr>\n",
       "    <tr>\n",
       "      <th>1</th>\n",
       "      <td>Fred Astaire</td>\n",
       "      <td>nm0000001</td>\n",
       "      <td>The Purple Taxi</td>\n",
       "      <td>1977</td>\n",
       "      <td>533</td>\n",
       "      <td>6.6</td>\n",
       "      <td>tt0076851</td>\n",
       "    </tr>\n",
       "    <tr>\n",
       "      <th>2</th>\n",
       "      <td>Fred Astaire</td>\n",
       "      <td>nm0000001</td>\n",
       "      <td>The Amazing Dobermans</td>\n",
       "      <td>1976</td>\n",
       "      <td>369</td>\n",
       "      <td>5.3</td>\n",
       "      <td>tt0074130</td>\n",
       "    </tr>\n",
       "    <tr>\n",
       "      <th>3</th>\n",
       "      <td>Fred Astaire</td>\n",
       "      <td>nm0000001</td>\n",
       "      <td>The Towering Inferno</td>\n",
       "      <td>1974</td>\n",
       "      <td>39888</td>\n",
       "      <td>7.0</td>\n",
       "      <td>tt0072308</td>\n",
       "    </tr>\n",
       "    <tr>\n",
       "      <th>4</th>\n",
       "      <td>Fred Astaire</td>\n",
       "      <td>nm0000001</td>\n",
       "      <td>Midas Run</td>\n",
       "      <td>1969</td>\n",
       "      <td>123</td>\n",
       "      <td>4.8</td>\n",
       "      <td>tt0064664</td>\n",
       "    </tr>\n",
       "  </tbody>\n",
       "</table>\n",
       "</div>"
      ],
      "text/plain": [
       "          Actor    ActorID                   Film  Year  Votes  Rating  \\\n",
       "0  Fred Astaire  nm0000001            Ghost Story  1981   7731     6.3   \n",
       "1  Fred Astaire  nm0000001        The Purple Taxi  1977    533     6.6   \n",
       "2  Fred Astaire  nm0000001  The Amazing Dobermans  1976    369     5.3   \n",
       "3  Fred Astaire  nm0000001   The Towering Inferno  1974  39888     7.0   \n",
       "4  Fred Astaire  nm0000001              Midas Run  1969    123     4.8   \n",
       "\n",
       "      FilmID  \n",
       "0  tt0082449  \n",
       "1  tt0076851  \n",
       "2  tt0074130  \n",
       "3  tt0072308  \n",
       "4  tt0064664  "
      ]
     },
     "execution_count": 2,
     "metadata": {},
     "output_type": "execute_result"
    }
   ],
   "source": [
    "import pandas as pd\n",
    "\n",
    "# Load dataset\n",
    "\n",
    "actors = pd.read_csv('https://raw.githubusercontent.com/seung-m1nsong/620/main/HW2/actorfilms.csv')\n",
    "\n",
    "actors.head()\n"
   ]
  },
  {
   "cell_type": "code",
   "execution_count": 3,
   "metadata": {},
   "outputs": [
    {
     "name": "stdout",
     "output_type": "stream",
     "text": [
      "<class 'pandas.core.frame.DataFrame'>\n",
      "RangeIndex: 191873 entries, 0 to 191872\n",
      "Data columns (total 7 columns):\n",
      " #   Column   Non-Null Count   Dtype  \n",
      "---  ------   --------------   -----  \n",
      " 0   Actor    191873 non-null  object \n",
      " 1   ActorID  191873 non-null  object \n",
      " 2   Film     191873 non-null  object \n",
      " 3   Year     191873 non-null  int64  \n",
      " 4   Votes    191873 non-null  int64  \n",
      " 5   Rating   191873 non-null  float64\n",
      " 6   FilmID   191873 non-null  object \n",
      "dtypes: float64(1), int64(2), object(4)\n",
      "memory usage: 10.2+ MB\n"
     ]
    }
   ],
   "source": [
    "actors.info()"
   ]
  },
  {
   "cell_type": "markdown",
   "metadata": {},
   "source": [
    "## **Data preprocessing**\n",
    "\n",
    "To optimize network analysis, it's essential to select appropriate data. Initially, due to the size of the current dataset, we'll narrow our focus to the 2020 and 2021 data exclusively. Furthermore, we'll filter the data to include only records with a Rating of 7 or higher."
   ]
  },
  {
   "cell_type": "code",
   "execution_count": 4,
   "metadata": {},
   "outputs": [
    {
     "data": {
      "text/html": [
       "<div>\n",
       "<style scoped>\n",
       "    .dataframe tbody tr th:only-of-type {\n",
       "        vertical-align: middle;\n",
       "    }\n",
       "\n",
       "    .dataframe tbody tr th {\n",
       "        vertical-align: top;\n",
       "    }\n",
       "\n",
       "    .dataframe thead th {\n",
       "        text-align: right;\n",
       "    }\n",
       "</style>\n",
       "<table border=\"1\" class=\"dataframe\">\n",
       "  <thead>\n",
       "    <tr style=\"text-align: right;\">\n",
       "      <th></th>\n",
       "      <th>Actor</th>\n",
       "      <th>ActorID</th>\n",
       "      <th>Film</th>\n",
       "      <th>Year</th>\n",
       "      <th>Votes</th>\n",
       "      <th>Rating</th>\n",
       "      <th>FilmID</th>\n",
       "    </tr>\n",
       "  </thead>\n",
       "  <tbody>\n",
       "    <tr>\n",
       "      <th>4401</th>\n",
       "      <td>Kenneth Branagh</td>\n",
       "      <td>nm0000110</td>\n",
       "      <td>Tenet</td>\n",
       "      <td>2020</td>\n",
       "      <td>323041</td>\n",
       "      <td>7.5</td>\n",
       "      <td>tt6723592</td>\n",
       "    </tr>\n",
       "    <tr>\n",
       "      <th>4594</th>\n",
       "      <td>Steve Buscemi</td>\n",
       "      <td>nm0000114</td>\n",
       "      <td>The King of Staten Island</td>\n",
       "      <td>2020</td>\n",
       "      <td>42901</td>\n",
       "      <td>7.1</td>\n",
       "      <td>tt9686708</td>\n",
       "    </tr>\n",
       "    <tr>\n",
       "      <th>4703</th>\n",
       "      <td>Nicolas Cage</td>\n",
       "      <td>nm0000115</td>\n",
       "      <td>The Croods: A New Age</td>\n",
       "      <td>2020</td>\n",
       "      <td>22014</td>\n",
       "      <td>7.0</td>\n",
       "      <td>tt2850386</td>\n",
       "    </tr>\n",
       "    <tr>\n",
       "      <th>4803</th>\n",
       "      <td>Neve Campbell</td>\n",
       "      <td>nm0000117</td>\n",
       "      <td>Clouds</td>\n",
       "      <td>2020</td>\n",
       "      <td>6539</td>\n",
       "      <td>7.5</td>\n",
       "      <td>tt6473066</td>\n",
       "    </tr>\n",
       "    <tr>\n",
       "      <th>5100</th>\n",
       "      <td>Kevin Costner</td>\n",
       "      <td>nm0000126</td>\n",
       "      <td>Zack Snyder's Justice League</td>\n",
       "      <td>2021</td>\n",
       "      <td>242474</td>\n",
       "      <td>8.2</td>\n",
       "      <td>tt12361974</td>\n",
       "    </tr>\n",
       "  </tbody>\n",
       "</table>\n",
       "</div>"
      ],
      "text/plain": [
       "                Actor    ActorID                          Film  Year   Votes  \\\n",
       "4401  Kenneth Branagh  nm0000110                         Tenet  2020  323041   \n",
       "4594    Steve Buscemi  nm0000114     The King of Staten Island  2020   42901   \n",
       "4703     Nicolas Cage  nm0000115         The Croods: A New Age  2020   22014   \n",
       "4803    Neve Campbell  nm0000117                        Clouds  2020    6539   \n",
       "5100    Kevin Costner  nm0000126  Zack Snyder's Justice League  2021  242474   \n",
       "\n",
       "      Rating      FilmID  \n",
       "4401     7.5   tt6723592  \n",
       "4594     7.1   tt9686708  \n",
       "4703     7.0   tt2850386  \n",
       "4803     7.5   tt6473066  \n",
       "5100     8.2  tt12361974  "
      ]
     },
     "execution_count": 4,
     "metadata": {},
     "output_type": "execute_result"
    }
   ],
   "source": [
    "# Filter for the years 2020 and 2021 with ratings >= 7\n",
    "actors_2020_2021 = actors[((actors['Year'] == 2020) | (actors['Year'] == 2021)) & (actors['Rating'] >= 7)].dropna(subset=['Year', 'Rating'])\n",
    "\n",
    "# Display the filtered DataFrame\n",
    "actors_2020_2021.head()"
   ]
  },
  {
   "cell_type": "code",
   "execution_count": 5,
   "metadata": {},
   "outputs": [
    {
     "name": "stdout",
     "output_type": "stream",
     "text": [
      "<class 'pandas.core.frame.DataFrame'>\n",
      "Int64Index: 593 entries, 4401 to 191845\n",
      "Data columns (total 7 columns):\n",
      " #   Column   Non-Null Count  Dtype  \n",
      "---  ------   --------------  -----  \n",
      " 0   Actor    593 non-null    object \n",
      " 1   ActorID  593 non-null    object \n",
      " 2   Film     593 non-null    object \n",
      " 3   Year     593 non-null    int64  \n",
      " 4   Votes    593 non-null    int64  \n",
      " 5   Rating   593 non-null    float64\n",
      " 6   FilmID   593 non-null    object \n",
      "dtypes: float64(1), int64(2), object(4)\n",
      "memory usage: 37.1+ KB\n"
     ]
    }
   ],
   "source": [
    "# Get information about the filtered DataFrame\n",
    "actors_2020_2021.info()"
   ]
  },
  {
   "cell_type": "markdown",
   "metadata": {},
   "source": [
    "Following this procedure, we will streamline our dataset to solely include the actor's name. Therefore, we will create a new dataframe containing only the title (Film) and the actor's name (Actor). "
   ]
  },
  {
   "cell_type": "code",
   "execution_count": 6,
   "metadata": {},
   "outputs": [
    {
     "name": "stdout",
     "output_type": "stream",
     "text": [
      "<class 'pandas.core.frame.DataFrame'>\n",
      "Int64Index: 593 entries, 4401 to 191845\n",
      "Data columns (total 2 columns):\n",
      " #   Column  Non-Null Count  Dtype \n",
      "---  ------  --------------  ----- \n",
      " 0   Actor   593 non-null    object\n",
      " 1   Film    593 non-null    object\n",
      "dtypes: object(2)\n",
      "memory usage: 13.9+ KB\n"
     ]
    }
   ],
   "source": [
    "actors_2020_2021 = actors_2020_2021.loc[:, actors_2020_2021.columns.intersection(['Actor','Film'])]\n",
    "\n",
    "actors_2020_2021.info()"
   ]
  },
  {
   "cell_type": "markdown",
   "metadata": {},
   "source": [
    "## **Network Analysis Dataset Transformation**\n",
    "\n",
    "To prepare the dataset for network analysis, we need to modify its format. Presently, when a title features multiple performers, multiple records are generated. Utilizing the groupby function, we will aggregate the cast members for each title into a list. This approach ensures the elimination of duplicate titles in the dataset."
   ]
  },
  {
   "cell_type": "code",
   "execution_count": 7,
   "metadata": {},
   "outputs": [
    {
     "data": {
      "text/html": [
       "<div>\n",
       "<style scoped>\n",
       "    .dataframe tbody tr th:only-of-type {\n",
       "        vertical-align: middle;\n",
       "    }\n",
       "\n",
       "    .dataframe tbody tr th {\n",
       "        vertical-align: top;\n",
       "    }\n",
       "\n",
       "    .dataframe thead th {\n",
       "        text-align: right;\n",
       "    }\n",
       "</style>\n",
       "<table border=\"1\" class=\"dataframe\">\n",
       "  <thead>\n",
       "    <tr style=\"text-align: right;\">\n",
       "      <th></th>\n",
       "      <th>Film</th>\n",
       "      <th>Actor</th>\n",
       "    </tr>\n",
       "  </thead>\n",
       "  <tbody>\n",
       "    <tr>\n",
       "      <th>0</th>\n",
       "      <td>A Sunburnt Christmas</td>\n",
       "      <td>[Sullivan Stapleton]</td>\n",
       "    </tr>\n",
       "    <tr>\n",
       "      <th>1</th>\n",
       "      <td>After Love</td>\n",
       "      <td>[Joanna Scanlan]</td>\n",
       "    </tr>\n",
       "    <tr>\n",
       "      <th>2</th>\n",
       "      <td>Angela's Christmas Wish</td>\n",
       "      <td>[Jared Harris, Caitriona Balfe, Ruth Negga, Mo...</td>\n",
       "    </tr>\n",
       "    <tr>\n",
       "      <th>3</th>\n",
       "      <td>Angrezi Medium</td>\n",
       "      <td>[Kareena Kapoor, Irrfan Khan]</td>\n",
       "    </tr>\n",
       "    <tr>\n",
       "      <th>4</th>\n",
       "      <td>Another Round</td>\n",
       "      <td>[Maria Bonnevie, Thomas Bo Larsen, Mads Mikkel...</td>\n",
       "    </tr>\n",
       "    <tr>\n",
       "      <th>...</th>\n",
       "      <td>...</td>\n",
       "      <td>...</td>\n",
       "    </tr>\n",
       "    <tr>\n",
       "      <th>103</th>\n",
       "      <td>Uncle Vanya</td>\n",
       "      <td>[Roger Allam, Richard Armitage, Toby Jones, Ai...</td>\n",
       "    </tr>\n",
       "    <tr>\n",
       "      <th>104</th>\n",
       "      <td>Wolfwalkers</td>\n",
       "      <td>[Sean Bean, Maria Doyle Kennedy, Simon McBurne...</td>\n",
       "    </tr>\n",
       "    <tr>\n",
       "      <th>105</th>\n",
       "      <td>Words on Bathroom Walls</td>\n",
       "      <td>[Andy Garcia, Walton Goggins, Beth Grant, Moll...</td>\n",
       "    </tr>\n",
       "    <tr>\n",
       "      <th>106</th>\n",
       "      <td>Yeh Ballet</td>\n",
       "      <td>[Julian Sands]</td>\n",
       "    </tr>\n",
       "    <tr>\n",
       "      <th>107</th>\n",
       "      <td>Zack Snyder's Justice League</td>\n",
       "      <td>[Kevin Costner, Russell Crowe, Diane Lane, Ben...</td>\n",
       "    </tr>\n",
       "  </tbody>\n",
       "</table>\n",
       "<p>108 rows × 2 columns</p>\n",
       "</div>"
      ],
      "text/plain": [
       "                             Film  \\\n",
       "0            A Sunburnt Christmas   \n",
       "1                      After Love   \n",
       "2         Angela's Christmas Wish   \n",
       "3                  Angrezi Medium   \n",
       "4                   Another Round   \n",
       "..                            ...   \n",
       "103                   Uncle Vanya   \n",
       "104                   Wolfwalkers   \n",
       "105       Words on Bathroom Walls   \n",
       "106                    Yeh Ballet   \n",
       "107  Zack Snyder's Justice League   \n",
       "\n",
       "                                                 Actor  \n",
       "0                                 [Sullivan Stapleton]  \n",
       "1                                     [Joanna Scanlan]  \n",
       "2    [Jared Harris, Caitriona Balfe, Ruth Negga, Mo...  \n",
       "3                        [Kareena Kapoor, Irrfan Khan]  \n",
       "4    [Maria Bonnevie, Thomas Bo Larsen, Mads Mikkel...  \n",
       "..                                                 ...  \n",
       "103  [Roger Allam, Richard Armitage, Toby Jones, Ai...  \n",
       "104  [Sean Bean, Maria Doyle Kennedy, Simon McBurne...  \n",
       "105  [Andy Garcia, Walton Goggins, Beth Grant, Moll...  \n",
       "106                                     [Julian Sands]  \n",
       "107  [Kevin Costner, Russell Crowe, Diane Lane, Ben...  \n",
       "\n",
       "[108 rows x 2 columns]"
      ]
     },
     "execution_count": 7,
     "metadata": {},
     "output_type": "execute_result"
    }
   ],
   "source": [
    "actors_2020_2021_join = actors_2020_2021.groupby(['Film'])['Actor'].apply(list).reset_index()\n",
    "actors_2020_2021_join\n"
   ]
  },
  {
   "cell_type": "markdown",
   "metadata": {},
   "source": [
    "\n",
    "Next, the dataset requires transformation to facilitate its utilization in network analysis. The network analysis dataframe should include 'source', 'target', and 'weight' columns. Each row represents a combination of two actors from the same work, with one actor designated as the 'source' and the other as the 'target'. The 'weight' indicates the frequency of occurrence for each combination.\n",
    "\n",
    "To achieve this, we will identify all possible combinations of two actors from the same work and calculate the frequency of each combination."
   ]
  },
  {
   "cell_type": "code",
   "execution_count": 8,
   "metadata": {},
   "outputs": [
    {
     "data": {
      "text/html": [
       "<div>\n",
       "<style scoped>\n",
       "    .dataframe tbody tr th:only-of-type {\n",
       "        vertical-align: middle;\n",
       "    }\n",
       "\n",
       "    .dataframe tbody tr th {\n",
       "        vertical-align: top;\n",
       "    }\n",
       "\n",
       "    .dataframe thead th {\n",
       "        text-align: right;\n",
       "    }\n",
       "</style>\n",
       "<table border=\"1\" class=\"dataframe\">\n",
       "  <thead>\n",
       "    <tr style=\"text-align: right;\">\n",
       "      <th></th>\n",
       "      <th>Film</th>\n",
       "      <th>Actor</th>\n",
       "    </tr>\n",
       "  </thead>\n",
       "  <tbody>\n",
       "    <tr>\n",
       "      <th>2</th>\n",
       "      <td>Angela's Christmas Wish</td>\n",
       "      <td>(Jared Harris, Caitriona Balfe)</td>\n",
       "    </tr>\n",
       "    <tr>\n",
       "      <th>2</th>\n",
       "      <td>Angela's Christmas Wish</td>\n",
       "      <td>(Jared Harris, Ruth Negga)</td>\n",
       "    </tr>\n",
       "    <tr>\n",
       "      <th>2</th>\n",
       "      <td>Angela's Christmas Wish</td>\n",
       "      <td>(Jared Harris, Moe Dunford)</td>\n",
       "    </tr>\n",
       "    <tr>\n",
       "      <th>2</th>\n",
       "      <td>Angela's Christmas Wish</td>\n",
       "      <td>(Caitriona Balfe, Ruth Negga)</td>\n",
       "    </tr>\n",
       "    <tr>\n",
       "      <th>2</th>\n",
       "      <td>Angela's Christmas Wish</td>\n",
       "      <td>(Caitriona Balfe, Moe Dunford)</td>\n",
       "    </tr>\n",
       "    <tr>\n",
       "      <th>...</th>\n",
       "      <td>...</td>\n",
       "      <td>...</td>\n",
       "    </tr>\n",
       "    <tr>\n",
       "      <th>107</th>\n",
       "      <td>Zack Snyder's Justice League</td>\n",
       "      <td>(Ray Fisher, Ryan Zheng)</td>\n",
       "    </tr>\n",
       "    <tr>\n",
       "      <th>107</th>\n",
       "      <td>Zack Snyder's Justice League</td>\n",
       "      <td>(Ray Fisher, Brooke Ence)</td>\n",
       "    </tr>\n",
       "    <tr>\n",
       "      <th>107</th>\n",
       "      <td>Zack Snyder's Justice League</td>\n",
       "      <td>(Kiersey Clemons, Ryan Zheng)</td>\n",
       "    </tr>\n",
       "    <tr>\n",
       "      <th>107</th>\n",
       "      <td>Zack Snyder's Justice League</td>\n",
       "      <td>(Kiersey Clemons, Brooke Ence)</td>\n",
       "    </tr>\n",
       "    <tr>\n",
       "      <th>107</th>\n",
       "      <td>Zack Snyder's Justice League</td>\n",
       "      <td>(Ryan Zheng, Brooke Ence)</td>\n",
       "    </tr>\n",
       "  </tbody>\n",
       "</table>\n",
       "<p>2869 rows × 2 columns</p>\n",
       "</div>"
      ],
      "text/plain": [
       "                             Film                            Actor\n",
       "2         Angela's Christmas Wish  (Jared Harris, Caitriona Balfe)\n",
       "2         Angela's Christmas Wish       (Jared Harris, Ruth Negga)\n",
       "2         Angela's Christmas Wish      (Jared Harris, Moe Dunford)\n",
       "2         Angela's Christmas Wish    (Caitriona Balfe, Ruth Negga)\n",
       "2         Angela's Christmas Wish   (Caitriona Balfe, Moe Dunford)\n",
       "..                            ...                              ...\n",
       "107  Zack Snyder's Justice League         (Ray Fisher, Ryan Zheng)\n",
       "107  Zack Snyder's Justice League        (Ray Fisher, Brooke Ence)\n",
       "107  Zack Snyder's Justice League    (Kiersey Clemons, Ryan Zheng)\n",
       "107  Zack Snyder's Justice League   (Kiersey Clemons, Brooke Ence)\n",
       "107  Zack Snyder's Justice League        (Ryan Zheng, Brooke Ence)\n",
       "\n",
       "[2869 rows x 2 columns]"
      ]
     },
     "execution_count": 8,
     "metadata": {},
     "output_type": "execute_result"
    }
   ],
   "source": [
    "from itertools import combinations\n",
    "\n",
    "actors_2020_2021_join['Actor'] = actors_2020_2021_join['Actor'].apply(lambda l: list(combinations(l, 2)))\n",
    "actors_2020_2021_join = actors_2020_2021_join.explode('Actor').dropna()\n",
    "actors_2020_2021_join"
   ]
  },
  {
   "cell_type": "code",
   "execution_count": 9,
   "metadata": {},
   "outputs": [
    {
     "data": {
      "text/html": [
       "<div>\n",
       "<style scoped>\n",
       "    .dataframe tbody tr th:only-of-type {\n",
       "        vertical-align: middle;\n",
       "    }\n",
       "\n",
       "    .dataframe tbody tr th {\n",
       "        vertical-align: top;\n",
       "    }\n",
       "\n",
       "    .dataframe thead th {\n",
       "        text-align: right;\n",
       "    }\n",
       "</style>\n",
       "<table border=\"1\" class=\"dataframe\">\n",
       "  <thead>\n",
       "    <tr style=\"text-align: right;\">\n",
       "      <th></th>\n",
       "      <th>source</th>\n",
       "      <th>target</th>\n",
       "    </tr>\n",
       "  </thead>\n",
       "  <tbody>\n",
       "    <tr>\n",
       "      <th>0</th>\n",
       "      <td>Jared Harris</td>\n",
       "      <td>Caitriona Balfe</td>\n",
       "    </tr>\n",
       "    <tr>\n",
       "      <th>1</th>\n",
       "      <td>Jared Harris</td>\n",
       "      <td>Ruth Negga</td>\n",
       "    </tr>\n",
       "    <tr>\n",
       "      <th>2</th>\n",
       "      <td>Jared Harris</td>\n",
       "      <td>Moe Dunford</td>\n",
       "    </tr>\n",
       "    <tr>\n",
       "      <th>3</th>\n",
       "      <td>Caitriona Balfe</td>\n",
       "      <td>Ruth Negga</td>\n",
       "    </tr>\n",
       "    <tr>\n",
       "      <th>4</th>\n",
       "      <td>Caitriona Balfe</td>\n",
       "      <td>Moe Dunford</td>\n",
       "    </tr>\n",
       "  </tbody>\n",
       "</table>\n",
       "</div>"
      ],
      "text/plain": [
       "            source           target\n",
       "0     Jared Harris  Caitriona Balfe\n",
       "1     Jared Harris       Ruth Negga\n",
       "2     Jared Harris      Moe Dunford\n",
       "3  Caitriona Balfe       Ruth Negga\n",
       "4  Caitriona Balfe      Moe Dunford"
      ]
     },
     "execution_count": 9,
     "metadata": {},
     "output_type": "execute_result"
    }
   ],
   "source": [
    "nt = pd.DataFrame(actors_2020_2021_join['Actor'].to_list(), columns=['source','target'])\n",
    "nt.head()"
   ]
  },
  {
   "cell_type": "markdown",
   "metadata": {},
   "source": [
    "## **Run network analysis**\n",
    "\n",
    "Once the dataset is prepared, we will proceed with network analysis by converting the dataset into a graph using NetworkX. This involves representing each actor as a node in the graph and each combination of actors from the same work as an edge. The weight of each edge will be determined by the frequency of occurrence of the actor combination."
   ]
  },
  {
   "cell_type": "code",
   "execution_count": 10,
   "metadata": {},
   "outputs": [
    {
     "data": {
      "text/html": [
       "<div>\n",
       "<style scoped>\n",
       "    .dataframe tbody tr th:only-of-type {\n",
       "        vertical-align: middle;\n",
       "    }\n",
       "\n",
       "    .dataframe tbody tr th {\n",
       "        vertical-align: top;\n",
       "    }\n",
       "\n",
       "    .dataframe thead th {\n",
       "        text-align: right;\n",
       "    }\n",
       "</style>\n",
       "<table border=\"1\" class=\"dataframe\">\n",
       "  <thead>\n",
       "    <tr style=\"text-align: right;\">\n",
       "      <th></th>\n",
       "      <th>source</th>\n",
       "      <th>target</th>\n",
       "      <th>weight</th>\n",
       "    </tr>\n",
       "  </thead>\n",
       "  <tbody>\n",
       "    <tr>\n",
       "      <th>0</th>\n",
       "      <td>Jared Harris</td>\n",
       "      <td>Caitriona Balfe</td>\n",
       "      <td>1</td>\n",
       "    </tr>\n",
       "    <tr>\n",
       "      <th>1</th>\n",
       "      <td>Jared Harris</td>\n",
       "      <td>Ruth Negga</td>\n",
       "      <td>1</td>\n",
       "    </tr>\n",
       "    <tr>\n",
       "      <th>2</th>\n",
       "      <td>Jared Harris</td>\n",
       "      <td>Moe Dunford</td>\n",
       "      <td>1</td>\n",
       "    </tr>\n",
       "    <tr>\n",
       "      <th>3</th>\n",
       "      <td>Caitriona Balfe</td>\n",
       "      <td>Ruth Negga</td>\n",
       "      <td>1</td>\n",
       "    </tr>\n",
       "    <tr>\n",
       "      <th>4</th>\n",
       "      <td>Caitriona Balfe</td>\n",
       "      <td>Moe Dunford</td>\n",
       "      <td>1</td>\n",
       "    </tr>\n",
       "    <tr>\n",
       "      <th>...</th>\n",
       "      <td>...</td>\n",
       "      <td>...</td>\n",
       "      <td>...</td>\n",
       "    </tr>\n",
       "    <tr>\n",
       "      <th>2864</th>\n",
       "      <td>Ray Fisher</td>\n",
       "      <td>Ryan Zheng</td>\n",
       "      <td>1</td>\n",
       "    </tr>\n",
       "    <tr>\n",
       "      <th>2865</th>\n",
       "      <td>Ray Fisher</td>\n",
       "      <td>Brooke Ence</td>\n",
       "      <td>1</td>\n",
       "    </tr>\n",
       "    <tr>\n",
       "      <th>2866</th>\n",
       "      <td>Kiersey Clemons</td>\n",
       "      <td>Ryan Zheng</td>\n",
       "      <td>1</td>\n",
       "    </tr>\n",
       "    <tr>\n",
       "      <th>2867</th>\n",
       "      <td>Kiersey Clemons</td>\n",
       "      <td>Brooke Ence</td>\n",
       "      <td>1</td>\n",
       "    </tr>\n",
       "    <tr>\n",
       "      <th>2868</th>\n",
       "      <td>Ryan Zheng</td>\n",
       "      <td>Brooke Ence</td>\n",
       "      <td>1</td>\n",
       "    </tr>\n",
       "  </tbody>\n",
       "</table>\n",
       "<p>2869 rows × 3 columns</p>\n",
       "</div>"
      ],
      "text/plain": [
       "               source           target  weight\n",
       "0        Jared Harris  Caitriona Balfe       1\n",
       "1        Jared Harris       Ruth Negga       1\n",
       "2        Jared Harris      Moe Dunford       1\n",
       "3     Caitriona Balfe       Ruth Negga       1\n",
       "4     Caitriona Balfe      Moe Dunford       1\n",
       "...               ...              ...     ...\n",
       "2864       Ray Fisher       Ryan Zheng       1\n",
       "2865       Ray Fisher      Brooke Ence       1\n",
       "2866  Kiersey Clemons       Ryan Zheng       1\n",
       "2867  Kiersey Clemons      Brooke Ence       1\n",
       "2868       Ryan Zheng      Brooke Ence       1\n",
       "\n",
       "[2869 rows x 3 columns]"
      ]
     },
     "execution_count": 10,
     "metadata": {},
     "output_type": "execute_result"
    }
   ],
   "source": [
    "nt['weight'] = nt.groupby(['source', 'target'])['source'].transform('size')\n",
    "nt = nt.dropna()\n",
    "nt"
   ]
  },
  {
   "cell_type": "markdown",
   "metadata": {},
   "source": [
    "The number of connections an actor has (n) is calculated by aggregating the weight of each connection of an actor. The value is used to determine the connectedness of an actor."
   ]
  },
  {
   "cell_type": "code",
   "execution_count": 11,
   "metadata": {},
   "outputs": [
    {
     "data": {
      "text/html": [
       "<div>\n",
       "<style scoped>\n",
       "    .dataframe tbody tr th:only-of-type {\n",
       "        vertical-align: middle;\n",
       "    }\n",
       "\n",
       "    .dataframe tbody tr th {\n",
       "        vertical-align: top;\n",
       "    }\n",
       "\n",
       "    .dataframe thead th {\n",
       "        text-align: right;\n",
       "    }\n",
       "</style>\n",
       "<table border=\"1\" class=\"dataframe\">\n",
       "  <thead>\n",
       "    <tr style=\"text-align: right;\">\n",
       "      <th></th>\n",
       "      <th>source</th>\n",
       "      <th>weight</th>\n",
       "    </tr>\n",
       "  </thead>\n",
       "  <tbody>\n",
       "    <tr>\n",
       "      <th>0</th>\n",
       "      <td>Aaron Jeffery</td>\n",
       "      <td>1</td>\n",
       "    </tr>\n",
       "    <tr>\n",
       "      <th>1</th>\n",
       "      <td>Aaron Taylor-Johnson</td>\n",
       "      <td>6</td>\n",
       "    </tr>\n",
       "    <tr>\n",
       "      <th>2</th>\n",
       "      <td>Adam Brody</td>\n",
       "      <td>16</td>\n",
       "    </tr>\n",
       "    <tr>\n",
       "      <th>3</th>\n",
       "      <td>Adam Rothenberg</td>\n",
       "      <td>3</td>\n",
       "    </tr>\n",
       "    <tr>\n",
       "      <th>4</th>\n",
       "      <td>Agusta Eva Erlendsdottir</td>\n",
       "      <td>9</td>\n",
       "    </tr>\n",
       "    <tr>\n",
       "      <th>...</th>\n",
       "      <td>...</td>\n",
       "      <td>...</td>\n",
       "    </tr>\n",
       "    <tr>\n",
       "      <th>453</th>\n",
       "      <td>Zachary Levi</td>\n",
       "      <td>2</td>\n",
       "    </tr>\n",
       "    <tr>\n",
       "      <th>454</th>\n",
       "      <td>Zack Snyder</td>\n",
       "      <td>12</td>\n",
       "    </tr>\n",
       "    <tr>\n",
       "      <th>455</th>\n",
       "      <td>Zazie Beetz</td>\n",
       "      <td>1</td>\n",
       "    </tr>\n",
       "    <tr>\n",
       "      <th>456</th>\n",
       "      <td>Zeljko Ivanek</td>\n",
       "      <td>6</td>\n",
       "    </tr>\n",
       "    <tr>\n",
       "      <th>457</th>\n",
       "      <td>Zosia Mamet</td>\n",
       "      <td>1</td>\n",
       "    </tr>\n",
       "  </tbody>\n",
       "</table>\n",
       "<p>458 rows × 2 columns</p>\n",
       "</div>"
      ],
      "text/plain": [
       "                       source  weight\n",
       "0               Aaron Jeffery       1\n",
       "1        Aaron Taylor-Johnson       6\n",
       "2                  Adam Brody      16\n",
       "3             Adam Rothenberg       3\n",
       "4    Agusta Eva Erlendsdottir       9\n",
       "..                        ...     ...\n",
       "453              Zachary Levi       2\n",
       "454               Zack Snyder      12\n",
       "455               Zazie Beetz       1\n",
       "456             Zeljko Ivanek       6\n",
       "457               Zosia Mamet       1\n",
       "\n",
       "[458 rows x 2 columns]"
      ]
     },
     "execution_count": 11,
     "metadata": {},
     "output_type": "execute_result"
    }
   ],
   "source": [
    "node_sizes = nt.groupby('source').weight.agg(sum)\n",
    "n = node_sizes.add_suffix('').reset_index()\n",
    "\n",
    "n\n"
   ]
  },
  {
   "cell_type": "markdown",
   "metadata": {},
   "source": [
    "The connectedness of an actor is seperated into categories of up to 5, 10, 15, and greater. The seperation between the categories is shown by the color of the node. With the color scale going as the following: yellow, green, blue, purple."
   ]
  },
  {
   "cell_type": "code",
   "execution_count": 12,
   "metadata": {},
   "outputs": [],
   "source": [
    "node_sizes = nt.groupby('source').weight.agg(sum)\n",
    "n = node_sizes.add_suffix('').reset_index()"
   ]
  },
  {
   "cell_type": "code",
   "execution_count": 13,
   "metadata": {},
   "outputs": [],
   "source": [
    "import networkx as nx\n",
    "\n",
    "G = nx.from_pandas_edgelist(nt, 'source', 'target',\n",
    "                            create_using=nx.DiGraph(), edge_attr='weight')\n",
    "#seperate nodes into categories\n",
    "node_lst_5 = n['source'][n['weight']<6]\n",
    "node_lst_5 = node_lst_5.values.tolist()\n",
    "node_lst_10 = n['source'][(n['weight']>=6) & (n['weight']<=10)]\n",
    "node_lst_10 = node_lst_10.values.tolist()\n",
    "node_lst_15 = n['source'][(n['weight']>=11) & (n['weight']<=15)]\n",
    "node_lst_15 = node_lst_15.values.tolist()"
   ]
  },
  {
   "cell_type": "code",
   "execution_count": 14,
   "metadata": {},
   "outputs": [
    {
     "name": "stdout",
     "output_type": "stream",
     "text": [
      "Warning: When  cdn_resources is 'local' jupyter notebook has issues displaying graphics on chrome/safari. Use cdn_resources='in_line' or cdn_resources='remote' if you have issues viewing graphics in a notebook.\n"
     ]
    }
   ],
   "source": [
    "from pyvis.network import Network\n",
    "\n",
    "net = Network(notebook=True)\n",
    "\n",
    "#add nodes\n",
    "for n in G:\n",
    "    #set color based on category\n",
    "    if n in node_lst_5:  \n",
    "        color = 'khaki'\n",
    "    elif n in node_lst_10:\n",
    "        color = 'turquoise'\n",
    "    elif n in node_lst_15:\n",
    "        color = 'lightskyblue'\n",
    "    else:\n",
    "        color = 'orchid'\n",
    "    net.add_node(n, label=n, color=color)\n",
    "\n",
    "#add edges\n",
    "net.add_edges(G.edges())"
   ]
  },
  {
   "cell_type": "markdown",
   "metadata": {},
   "source": [
    "## **Visualization**\n",
    "\n",
    "Visualize the network and save it as a file. The visualization results are displayed within the Jupyter notebook and saved as image files.\n",
    "\n"
   ]
  },
  {
   "cell_type": "markdown",
   "metadata": {},
   "source": [
    "Looking at the graph we are able to visualize the connections and popularity of actors. The graphs allows us infer the connection degree of an actor via the color intensity of their node, with the darkest nodes representing the more popular and well connected actors. When looking at the influential figures at the center of the network, prolific supporting actors like Lil Rel Howery stand out."
   ]
  },
  {
   "cell_type": "code",
   "execution_count": 15,
   "metadata": {},
   "outputs": [
    {
     "name": "stdout",
     "output_type": "stream",
     "text": [
      "plot1.html\n"
     ]
    },
    {
     "data": {
      "text/html": [
       "\n",
       "        <iframe\n",
       "            width=\"100%\"\n",
       "            height=\"600px\"\n",
       "            src=\"plot1.html\"\n",
       "            frameborder=\"0\"\n",
       "            allowfullscreen\n",
       "            \n",
       "        ></iframe>\n",
       "        "
      ],
      "text/plain": [
       "<IPython.lib.display.IFrame at 0x2866231bd10>"
      ]
     },
     "execution_count": 15,
     "metadata": {},
     "output_type": "execute_result"
    }
   ],
   "source": [
    "# Show the network\n",
    "net.show_buttons(filter_=['nodes'])\n",
    "\n",
    "net.show('plot1.html')"
   ]
  }
 ],
 "metadata": {
  "colab": {
   "name": "07_assignment.ipynb",
   "provenance": []
  },
  "kernelspec": {
   "display_name": "Python 3 (ipykernel)",
   "language": "python",
   "name": "python3"
  },
  "language_info": {
   "codemirror_mode": {
    "name": "ipython",
    "version": 3
   },
   "file_extension": ".py",
   "mimetype": "text/x-python",
   "name": "python",
   "nbconvert_exporter": "python",
   "pygments_lexer": "ipython3",
   "version": "3.11.1"
  }
 },
 "nbformat": 4,
 "nbformat_minor": 1
}

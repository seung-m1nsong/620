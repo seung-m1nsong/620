{
  "cells": [
    {
      "cell_type": "markdown",
      "metadata": {
        "id": "ObriK_kQ7fFC"
      },
      "source": [
        "# **Project 2**\n",
        "Seung Min Song, Krutika Patel<br>\n",
        "\n",
        "03/05/2024"
      ]
    },
    {
      "cell_type": "markdown",
      "metadata": {},
      "source": [
        "# **Data Source**\n",
        "\n",
        "* https://www.kaggle.com/datasets/sarmadriaz/a-network-analysis-of-game-of-thrones?rvi=1"
      ]
    },
    {
      "cell_type": "code",
      "execution_count": 261,
      "metadata": {},
      "outputs": [
        {
          "data": {
            "text/html": [
              "<div>\n",
              "<style scoped>\n",
              "    .dataframe tbody tr th:only-of-type {\n",
              "        vertical-align: middle;\n",
              "    }\n",
              "\n",
              "    .dataframe tbody tr th {\n",
              "        vertical-align: top;\n",
              "    }\n",
              "\n",
              "    .dataframe thead th {\n",
              "        text-align: right;\n",
              "    }\n",
              "</style>\n",
              "<table border=\"1\" class=\"dataframe\">\n",
              "  <thead>\n",
              "    <tr style=\"text-align: right;\">\n",
              "      <th></th>\n",
              "      <th>Source</th>\n",
              "      <th>Target</th>\n",
              "      <th>Type</th>\n",
              "      <th>weight</th>\n",
              "      <th>book</th>\n",
              "    </tr>\n",
              "  </thead>\n",
              "  <tbody>\n",
              "    <tr>\n",
              "      <th>0</th>\n",
              "      <td>Addam-Marbrand</td>\n",
              "      <td>Jaime-Lannister</td>\n",
              "      <td>Undirected</td>\n",
              "      <td>3</td>\n",
              "      <td>1</td>\n",
              "    </tr>\n",
              "    <tr>\n",
              "      <th>1</th>\n",
              "      <td>Addam-Marbrand</td>\n",
              "      <td>Tywin-Lannister</td>\n",
              "      <td>Undirected</td>\n",
              "      <td>6</td>\n",
              "      <td>1</td>\n",
              "    </tr>\n",
              "    <tr>\n",
              "      <th>2</th>\n",
              "      <td>Aegon-I-Targaryen</td>\n",
              "      <td>Daenerys-Targaryen</td>\n",
              "      <td>Undirected</td>\n",
              "      <td>5</td>\n",
              "      <td>1</td>\n",
              "    </tr>\n",
              "    <tr>\n",
              "      <th>3</th>\n",
              "      <td>Aegon-I-Targaryen</td>\n",
              "      <td>Eddard-Stark</td>\n",
              "      <td>Undirected</td>\n",
              "      <td>4</td>\n",
              "      <td>1</td>\n",
              "    </tr>\n",
              "    <tr>\n",
              "      <th>4</th>\n",
              "      <td>Aemon-Targaryen-(Maester-Aemon)</td>\n",
              "      <td>Alliser-Thorne</td>\n",
              "      <td>Undirected</td>\n",
              "      <td>4</td>\n",
              "      <td>1</td>\n",
              "    </tr>\n",
              "  </tbody>\n",
              "</table>\n",
              "</div>"
            ],
            "text/plain": [
              "                            Source              Target        Type  weight  \\\n",
              "0                   Addam-Marbrand     Jaime-Lannister  Undirected       3   \n",
              "1                   Addam-Marbrand     Tywin-Lannister  Undirected       6   \n",
              "2                Aegon-I-Targaryen  Daenerys-Targaryen  Undirected       5   \n",
              "3                Aegon-I-Targaryen        Eddard-Stark  Undirected       4   \n",
              "4  Aemon-Targaryen-(Maester-Aemon)      Alliser-Thorne  Undirected       4   \n",
              "\n",
              "   book  \n",
              "0     1  \n",
              "1     1  \n",
              "2     1  \n",
              "3     1  \n",
              "4     1  "
            ]
          },
          "execution_count": 261,
          "metadata": {},
          "output_type": "execute_result"
        }
      ],
      "source": [
        "\n",
        "import pandas as pd\n",
        "\n",
        "# Load dataset\n",
        "\n",
        "got_df = pd.read_csv('https://raw.githubusercontent.com/seung-m1nsong/620/main/Project2/GoT_book1.csv')\n",
        "\n",
        "got_df.head()"
      ]
    },
    {
      "cell_type": "code",
      "execution_count": 239,
      "metadata": {},
      "outputs": [
        {
          "data": {
            "text/html": [
              "<div>\n",
              "<style scoped>\n",
              "    .dataframe tbody tr th:only-of-type {\n",
              "        vertical-align: middle;\n",
              "    }\n",
              "\n",
              "    .dataframe tbody tr th {\n",
              "        vertical-align: top;\n",
              "    }\n",
              "\n",
              "    .dataframe thead th {\n",
              "        text-align: right;\n",
              "    }\n",
              "</style>\n",
              "<table border=\"1\" class=\"dataframe\">\n",
              "  <thead>\n",
              "    <tr style=\"text-align: right;\">\n",
              "      <th></th>\n",
              "      <th>Source</th>\n",
              "      <th>Target</th>\n",
              "      <th>weight</th>\n",
              "    </tr>\n",
              "  </thead>\n",
              "  <tbody>\n",
              "    <tr>\n",
              "      <th>0</th>\n",
              "      <td>Addam-Marbrand</td>\n",
              "      <td>Jaime-Lannister</td>\n",
              "      <td>3</td>\n",
              "    </tr>\n",
              "    <tr>\n",
              "      <th>1</th>\n",
              "      <td>Addam-Marbrand</td>\n",
              "      <td>Tywin-Lannister</td>\n",
              "      <td>6</td>\n",
              "    </tr>\n",
              "    <tr>\n",
              "      <th>2</th>\n",
              "      <td>Aegon-I-Targaryen</td>\n",
              "      <td>Daenerys-Targaryen</td>\n",
              "      <td>5</td>\n",
              "    </tr>\n",
              "    <tr>\n",
              "      <th>3</th>\n",
              "      <td>Aegon-I-Targaryen</td>\n",
              "      <td>Eddard-Stark</td>\n",
              "      <td>4</td>\n",
              "    </tr>\n",
              "    <tr>\n",
              "      <th>4</th>\n",
              "      <td>Aemon-Targaryen-(Maester-Aemon)</td>\n",
              "      <td>Alliser-Thorne</td>\n",
              "      <td>4</td>\n",
              "    </tr>\n",
              "  </tbody>\n",
              "</table>\n",
              "</div>"
            ],
            "text/plain": [
              "                            Source              Target  weight\n",
              "0                   Addam-Marbrand     Jaime-Lannister       3\n",
              "1                   Addam-Marbrand     Tywin-Lannister       6\n",
              "2                Aegon-I-Targaryen  Daenerys-Targaryen       5\n",
              "3                Aegon-I-Targaryen        Eddard-Stark       4\n",
              "4  Aemon-Targaryen-(Maester-Aemon)      Alliser-Thorne       4"
            ]
          },
          "execution_count": 239,
          "metadata": {},
          "output_type": "execute_result"
        }
      ],
      "source": [
        "got_df = got_df[['Source', 'Target', 'weight']]\n",
        "got_df.head()\n"
      ]
    },
    {
      "cell_type": "code",
      "execution_count": 240,
      "metadata": {},
      "outputs": [
        {
          "name": "stdout",
          "output_type": "stream",
          "text": [
            "<class 'pandas.core.frame.DataFrame'>\n",
            "RangeIndex: 684 entries, 0 to 683\n",
            "Data columns (total 3 columns):\n",
            " #   Column  Non-Null Count  Dtype \n",
            "---  ------  --------------  ----- \n",
            " 0   Source  684 non-null    object\n",
            " 1   Target  684 non-null    object\n",
            " 2   weight  684 non-null    int64 \n",
            "dtypes: int64(1), object(2)\n",
            "memory usage: 16.2+ KB\n"
          ]
        }
      ],
      "source": [
        "got_df.info()"
      ]
    },
    {
      "cell_type": "code",
      "execution_count": 241,
      "metadata": {},
      "outputs": [
        {
          "name": "stdout",
          "output_type": "stream",
          "text": [
            "                 Source  weight\n",
            "42         Eddard-Stark    1013\n",
            "18           Bran-Stark     511\n",
            "22        Catelyn-Stark     475\n",
            "9            Arya-Stark     430\n",
            "32   Daenerys-Targaryen     420\n",
            "24     Cersei-Lannister     367\n",
            "79             Jon-Snow     335\n",
            "76    Joffrey-Baratheon     275\n",
            "69      Jaime-Lannister     157\n",
            "13      Barristan-Selmy     143\n",
            "124    Robert-Baratheon     136\n",
            "40                Drogo     135\n",
            "122          Robb-Stark     120\n",
            "72         Jeor-Mormont     119\n",
            "110       Petyr-Baelish     118\n"
          ]
        }
      ],
      "source": [
        "node_sizes = got_df.groupby('Source').weight.agg(sum)\n",
        "n = node_sizes.add_suffix('').reset_index()\n",
        "top_15 = n.sort_values(by='weight', ascending=False).head(15)\n",
        "print(top_15)"
      ]
    },
    {
      "cell_type": "code",
      "execution_count": 237,
      "metadata": {},
      "outputs": [
        {
          "name": "stdout",
          "output_type": "stream",
          "text": [
            "Number of nodes: 187\n",
            "Number of edges: 684\n",
            "Average degree: 7.315508021390374\n"
          ]
        }
      ],
      "source": [
        "import networkx as nx\n",
        "\n",
        "G = nx.from_pandas_edgelist(got_df, 'Source', 'Target', ['weight'])\n",
        "print(\"Number of nodes:\", G.number_of_nodes())\n",
        "print(\"Number of edges:\", G.number_of_edges())\n",
        "print(\"Average degree:\", sum(dict(G.degree()).values()) / G.number_of_nodes())\n"
      ]
    },
    {
      "cell_type": "markdown",
      "metadata": {},
      "source": [
        "## Grouped Visualization"
      ]
    },
    {
      "cell_type": "code",
      "execution_count": 260,
      "metadata": {},
      "outputs": [
        {
          "name": "stdout",
          "output_type": "stream",
          "text": [
            "Warning: When  cdn_resources is 'local' jupyter notebook has issues displaying graphics on chrome/safari. Use cdn_resources='in_line' or cdn_resources='remote' if you have issues viewing graphics in a notebook.\n"
          ]
        }
      ],
      "source": [
        "from itertools import combinations\n",
        "from pyvis.network import Network\n",
        "\n",
        "net = Network(notebook=True)\n",
        "\n",
        "# Define node groups\n",
        "group_stark = [n for n in G.nodes() if 'Stark' in n]\n",
        "group_targaryen = [n for n in G.nodes() if 'Targaryen' in n]\n",
        "group_lannister = [n for n in G.nodes() if 'Lannister' in n]\n",
        "group_jon_snow = [n for n in G.nodes() if 'Jon-Snow' in n]\n",
        "group_baratheon = [n for n in G.nodes() if 'Baratheon' in n]\n",
        "\n",
        "for n in G.nodes():\n",
        "    group = None\n",
        "    if n in group_stark:\n",
        "        group = 'Stark'\n",
        "    elif n in group_targaryen:\n",
        "        group = 'Targaryen'\n",
        "    elif n in group_lannister:\n",
        "        group = 'Lannister'\n",
        "    elif n in group_jon_snow:\n",
        "        group = 'Jon-Snow'\n",
        "    elif n in group_baratheon:\n",
        "        group = 'Baratheon'\n",
        "    else:\n",
        "        group = 'Other'  # You can define additional groups if needed\n",
        "\n",
        "    color = 'green' if group == 'Stark' else 'orange' if group == 'Targaryen' else 'blue' if group == 'Lannister' else 'red' if group == 'Jon-Snow' else 'yellow' if group == 'Baratheon' else 'gray'\n",
        "    size = 10 + 5 * G.degree(n)  # adjust the multiplier for desired size scaling\n",
        "    net.add_node(n, label=n, color=color, size=size, group=group)\n",
        "\n",
        "# Add more edges within each group for cohesion\n",
        "for group in [group_stark, group_targaryen, group_lannister, group_jon_snow, group_baratheon]:\n",
        "    for node1, node2 in combinations(group, 2):\n",
        "        if not any(edge['from'] == node1 and edge['to'] == node2 for edge in net.edges):\n",
        "            net.add_edge(node1, node2)\n",
        "\n",
        "\n",
        "# apply barnes_hut algorithm for better node separation\n",
        "net.barnes_hut()\n",
        "\n",
        "# show buttons for filtering nodes\n",
        "net.show_buttons(filter_=['nodes'])\n",
        "\n",
        "# save the graph as an HTML file\n",
        "net.save_graph('grouped.html')\n"
      ]
    },
    {
      "cell_type": "code",
      "execution_count": 244,
      "metadata": {},
      "outputs": [
        {
          "name": "stdout",
          "output_type": "stream",
          "text": [
            "Warning: When  cdn_resources is 'local' jupyter notebook has issues displaying graphics on chrome/safari. Use cdn_resources='in_line' or cdn_resources='remote' if you have issues viewing graphics in a notebook.\n"
          ]
        }
      ],
      "source": [
        "from itertools import combinations, product\n",
        "from pyvis.network import Network\n",
        "\n",
        "net = Network(notebook=True)\n",
        "\n",
        "# Define node groups\n",
        "group_stark = [n for n in G.nodes() if 'Stark' in n]\n",
        "group_targaryen = [n for n in G.nodes() if 'Targaryen' in n]\n",
        "group_lannister = [n for n in G.nodes() if 'Lannister' in n]\n",
        "group_jon_snow = [n for n in G.nodes() if 'Jon-Snow' in n]\n",
        "group_baratheon = [n for n in G.nodes() if 'Baratheon' in n]\n",
        "\n",
        "for n in G.nodes():\n",
        "    group = None\n",
        "    if n in group_stark:\n",
        "        group = 'Stark'\n",
        "    elif n in group_targaryen:\n",
        "        group = 'Targaryen'\n",
        "    elif n in group_lannister:\n",
        "        group = 'Lannister'\n",
        "    elif n in group_jon_snow:\n",
        "        group = 'Jon-Snow'\n",
        "    elif n in group_baratheon:\n",
        "        group = 'Baratheon'\n",
        "    else:\n",
        "        group = 'Other'  # You can define additional groups if needed\n",
        "\n",
        "    color = 'green' if group == 'Stark' else 'orange' if group == 'Targaryen' else 'blue' if group == 'Lannister' else 'red' if group == 'Jon-Snow' else 'yellow' if group == 'Baratheon' else 'gray'\n",
        "    size = 10 + 5 * G.degree(n)  # adjust the multiplier for desired size scaling\n",
        "    net.add_node(n, label=n, color=color, size=size, group=group)\n",
        "\n",
        "# Add more edges within each group for cohesion\n",
        "for group in [group_stark, group_targaryen, group_lannister, group_jon_snow, group_baratheon]:\n",
        "    for node1, node2 in combinations(group, 2):\n",
        "        if not any(edge['from'] == node1 and edge['to'] == node2 for edge in net.edges):\n",
        "            net.add_edge(node1, node2)\n",
        "\n",
        "# Add edges between nodes in different groups\n",
        "for node1, node2 in product(G.nodes(), G.nodes()):\n",
        "    if node1 != node2:\n",
        "        net.add_edge(node1, node2)\n",
        "\n",
        "\n",
        "# apply barnes_hut algorithm for better node separation\n",
        "net.barnes_hut()\n",
        "\n",
        "# show buttons for filtering nodes\n",
        "net.show_buttons(filter_=['nodes'])\n",
        "\n",
        "# save the graph as an HTML file\n",
        "net.save_graph('bbbba.html')\n"
      ]
    },
    {
      "cell_type": "markdown",
      "metadata": {},
      "source": [
        "## Source & Target Visualization"
      ]
    },
    {
      "cell_type": "code",
      "execution_count": 245,
      "metadata": {},
      "outputs": [
        {
          "name": "stdout",
          "output_type": "stream",
          "text": [
            "Warning: When  cdn_resources is 'local' jupyter notebook has issues displaying graphics on chrome/safari. Use cdn_resources='in_line' or cdn_resources='remote' if you have issues viewing graphics in a notebook.\n"
          ]
        }
      ],
      "source": [
        "from pyvis.network import Network\n",
        "\n",
        "net = Network(notebook=True)\n",
        "\n",
        "for n in G.nodes():\n",
        "    # Check if the node exists in the 'Source' or 'Target' column of got_df\n",
        "    if n in got_df['Source'].tolist():\n",
        "        color = 'green'\n",
        "    elif n in got_df['Target'].tolist():\n",
        "        color = 'orange'\n",
        "    else:\n",
        "        # Skip nodes that do not exist in got_df\n",
        "        continue\n",
        "\n",
        "    # set size based on degree (number of edges)\n",
        "    size = 10 + 5 * G.degree(n)  # adjust the multiplier for desired size scaling\n",
        "    net.add_node(n, label=n, color=color, size=size)\n",
        "\n",
        "# add edges\n",
        "for edge in G.edges():\n",
        "    if edge[0] in net.get_nodes() and edge[1] in net.get_nodes():\n",
        "        net.add_edge(edge[0], edge[1])\n",
        "\n",
        "# apply barnes_hut algorithm for better node separation\n",
        "net.barnes_hut()\n",
        "\n",
        "# show buttons for filtering nodes\n",
        "net.show_buttons(filter_=['nodes'])\n",
        "\n",
        "# save the graph as an HTML file\n",
        "net.save_graph('SourceTarget.html')"
      ]
    },
    {
      "cell_type": "markdown",
      "metadata": {},
      "source": [
        "## Color Grouped Visualization\n"
      ]
    },
    {
      "cell_type": "code",
      "execution_count": 248,
      "metadata": {},
      "outputs": [
        {
          "name": "stdout",
          "output_type": "stream",
          "text": [
            "Warning: When  cdn_resources is 'local' jupyter notebook has issues displaying graphics on chrome/safari. Use cdn_resources='in_line' or cdn_resources='remote' if you have issues viewing graphics in a notebook.\n"
          ]
        }
      ],
      "source": [
        "from pyvis.network import Network\n",
        "\n",
        "net = Network(notebook=True)\n",
        "\n",
        "# Define node groups\n",
        "group_stark = [n for n in G.nodes() if 'Stark' in n]\n",
        "group_targaryen = [n for n in G.nodes() if 'Targaryen' in n]\n",
        "group_lannister = [n for n in G.nodes() if 'Lannister' in n]\n",
        "group_jon_snow = [n for n in G.nodes() if 'Jon-Snow' in n]\n",
        "group_baratheon = [n for n in G.nodes() if 'Baratheon' in n]\n",
        "\n",
        "for n in G.nodes():\n",
        "    group = None\n",
        "    if n in group_stark:\n",
        "        group = 'Stark'\n",
        "    elif n in group_targaryen:\n",
        "        group = 'Targaryen'\n",
        "    elif n in group_lannister:\n",
        "        group = 'Lannister'\n",
        "    elif n in group_jon_snow:\n",
        "        group = 'Jon-Snow'\n",
        "    elif n in group_baratheon:\n",
        "        group = 'Baratheon'    \n",
        "    else:\n",
        "        group = 'Other' \n",
        "\n",
        "    color = 'green' if group == 'Stark' else 'orange' if group == 'Targaryen' else 'blue' if group == 'Lannister' else 'red' if group == 'Jon-Snow' else 'yellow' if group == 'Baratheon'  else 'blue'\n",
        "    size = 10 + 5 * G.degree(n)  # adjust the multiplier for desired size scaling\n",
        "    net.add_node(n, label=n, color=color, size=size, group=group)\n",
        "\n",
        "# add edges\n",
        "for edge in G.edges():\n",
        "    if edge[0] in net.get_nodes() and edge[1] in net.get_nodes():\n",
        "        net.add_edge(edge[0], edge[1])\n",
        "\n",
        "# apply barnes_hut algorithm for better node separation\n",
        "net.barnes_hut()\n",
        "\n",
        "# show buttons for filtering nodes\n",
        "net.show_buttons(filter_=['nodes'])\n",
        "\n",
        "# save the graph as an HTML file\n",
        "net.save_graph('groupColored.html')\n"
      ]
    },
    {
      "cell_type": "code",
      "execution_count": 127,
      "metadata": {},
      "outputs": [
        {
          "name": "stdout",
          "output_type": "stream",
          "text": [
            "Jeor-Mormont:  81\n",
            "Samwell-Tarly:  81\n",
            "Bran-Stark:  56\n",
            "Tyrion-Lannister:  56\n",
            "Robb-Stark:  53\n",
            "Pypar:  45\n",
            "Benjen-Stark:  41\n",
            "Eddard-Stark:  38\n",
            "Arya-Stark:  37\n",
            "Aemon-Targaryen-(Maester-Aemon):  34\n"
          ]
        }
      ],
      "source": [
        "# A function that outputs 10 neighbors in the order of highest weight between specific nodes (names) in network G\n",
        "\n",
        "def find_ten_closest(G, name):  \n",
        "    neighbors_list = list(G.neighbors(f\"{name}\"))\n",
        "    \n",
        "    temp_dict = {}\n",
        "    for n in neighbors_list:\n",
        "        if G.has_edge(f\"{name}\", n):\n",
        "            weight = G.edges[f\"{name}\", n]['weight']\n",
        "            temp_dict[n] = weight\n",
        "    \n",
        "    sorted_list = sorted(temp_dict.items(), key=(lambda x:x[1]), reverse=True)\n",
        "    for n, w in sorted_list[0:10]:  # 1~10위\n",
        "        print(f'{n}:  {w}')\n",
        "\n",
        "# Output the top 10 people closest to 'Jon-Snow' and their weight\n",
        "find_ten_closest(G, 'Jon-Snow')"
      ]
    }
  ],
  "metadata": {
    "colab": {
      "provenance": []
    },
    "kernelspec": {
      "display_name": "Python 3",
      "language": "python",
      "name": "python3"
    },
    "language_info": {
      "codemirror_mode": {
        "name": "ipython",
        "version": 3
      },
      "file_extension": ".py",
      "mimetype": "text/x-python",
      "name": "python",
      "nbconvert_exporter": "python",
      "pygments_lexer": "ipython3",
      "version": "3.11.1"
    },
    "orig_nbformat": 4
  },
  "nbformat": 4,
  "nbformat_minor": 0
}

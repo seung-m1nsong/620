{
  "cells": [
    {
      "cell_type": "markdown",
      "metadata": {
        "id": "ObriK_kQ7fFC"
      },
      "source": [
        "# **Project 2**\n",
        "Seung Min Song, Krutika Patel<br>\n",
        "\n",
        "03/05/2024\n",
        "\n",
        "1. Identify a large 2-node network dataset—you can start with a dataset in a repository.  Your data should meet the criteria that it consists of ties between and not within two (or more) distinct groups.\n",
        "2. Reduce the size of the network using a method such as the island method described in chapter 4 of social network analysis.\n",
        "3. What can you infer about each of the distinct groups?"
      ]
    },
    {
      "cell_type": "markdown",
      "metadata": {
        "id": "y0_AbnE2k7WD"
      },
      "source": [
        "# **Research Question**\n",
        "\n",
        "* Examine how are job titles related to specific industries and salary.\n",
        "* Examine the role of Data Scientist more closely.\n",
        "* Filter the network using degree centrality and reduce the network by removing nodes with centrality lower than the median."
      ]
    },
    {
      "cell_type": "markdown",
      "metadata": {
        "id": "hVOjj04Sk7WE"
      },
      "source": [
        "# **Data Source**\n",
        "\n",
        "* https://www.kaggle.com/datasets/andrewmvd/data-scientist-jobs"
      ]
    },
    {
      "cell_type": "markdown",
      "metadata": {
        "id": "B8J0uu5ck7WE"
      },
      "source": [
        "# **Data Set**"
      ]
    },
    {
      "cell_type": "code",
      "execution_count": 1,
      "metadata": {
        "colab": {
          "base_uri": "https://localhost:8080/",
          "height": 434
        },
        "id": "N1Vzsr2_k7WE",
        "outputId": "0b650239-24b9-4c55-fa5c-afc8b0a8c534"
      },
      "outputs": [
        {
          "data": {
            "text/html": [
              "<div>\n",
              "<style scoped>\n",
              "    .dataframe tbody tr th:only-of-type {\n",
              "        vertical-align: middle;\n",
              "    }\n",
              "\n",
              "    .dataframe tbody tr th {\n",
              "        vertical-align: top;\n",
              "    }\n",
              "\n",
              "    .dataframe thead th {\n",
              "        text-align: right;\n",
              "    }\n",
              "</style>\n",
              "<table border=\"1\" class=\"dataframe\">\n",
              "  <thead>\n",
              "    <tr style=\"text-align: right;\">\n",
              "      <th></th>\n",
              "      <th>Unnamed: 0</th>\n",
              "      <th>index</th>\n",
              "      <th>Job Title</th>\n",
              "      <th>Salary Estimate</th>\n",
              "      <th>Job Description</th>\n",
              "      <th>Rating</th>\n",
              "      <th>Company Name</th>\n",
              "      <th>Location</th>\n",
              "      <th>Headquarters</th>\n",
              "      <th>Size</th>\n",
              "      <th>Founded</th>\n",
              "      <th>Type of ownership</th>\n",
              "      <th>Industry</th>\n",
              "      <th>Sector</th>\n",
              "      <th>Revenue</th>\n",
              "      <th>Competitors</th>\n",
              "      <th>Easy Apply</th>\n",
              "    </tr>\n",
              "  </thead>\n",
              "  <tbody>\n",
              "    <tr>\n",
              "      <th>0</th>\n",
              "      <td>0</td>\n",
              "      <td>0</td>\n",
              "      <td>Senior Data Scientist</td>\n",
              "      <td>$111K-$181K (Glassdoor est.)</td>\n",
              "      <td>ABOUT HOPPER\\n\\nAt Hopper, we’re on a mission ...</td>\n",
              "      <td>3.5</td>\n",
              "      <td>Hopper\\n3.5</td>\n",
              "      <td>New York, NY</td>\n",
              "      <td>Montreal, Canada</td>\n",
              "      <td>501 to 1000 employees</td>\n",
              "      <td>2007</td>\n",
              "      <td>Company - Private</td>\n",
              "      <td>Travel Agencies</td>\n",
              "      <td>Travel &amp; Tourism</td>\n",
              "      <td>Unknown / Non-Applicable</td>\n",
              "      <td>-1</td>\n",
              "      <td>-1</td>\n",
              "    </tr>\n",
              "    <tr>\n",
              "      <th>1</th>\n",
              "      <td>1</td>\n",
              "      <td>1</td>\n",
              "      <td>Data Scientist, Product Analytics</td>\n",
              "      <td>$111K-$181K (Glassdoor est.)</td>\n",
              "      <td>At Noom, we use scientifically proven methods ...</td>\n",
              "      <td>4.5</td>\n",
              "      <td>Noom US\\n4.5</td>\n",
              "      <td>New York, NY</td>\n",
              "      <td>New York, NY</td>\n",
              "      <td>1001 to 5000 employees</td>\n",
              "      <td>2008</td>\n",
              "      <td>Company - Private</td>\n",
              "      <td>Health, Beauty, &amp; Fitness</td>\n",
              "      <td>Consumer Services</td>\n",
              "      <td>Unknown / Non-Applicable</td>\n",
              "      <td>-1</td>\n",
              "      <td>-1</td>\n",
              "    </tr>\n",
              "    <tr>\n",
              "      <th>2</th>\n",
              "      <td>2</td>\n",
              "      <td>2</td>\n",
              "      <td>Data Science Manager</td>\n",
              "      <td>$111K-$181K (Glassdoor est.)</td>\n",
              "      <td>Decode_M\\n\\nhttps://www.decode-m.com/\\n\\nData ...</td>\n",
              "      <td>-1.0</td>\n",
              "      <td>Decode_M</td>\n",
              "      <td>New York, NY</td>\n",
              "      <td>New York, NY</td>\n",
              "      <td>1 to 50 employees</td>\n",
              "      <td>-1</td>\n",
              "      <td>Unknown</td>\n",
              "      <td>-1</td>\n",
              "      <td>-1</td>\n",
              "      <td>Unknown / Non-Applicable</td>\n",
              "      <td>-1</td>\n",
              "      <td>True</td>\n",
              "    </tr>\n",
              "    <tr>\n",
              "      <th>3</th>\n",
              "      <td>3</td>\n",
              "      <td>3</td>\n",
              "      <td>Data Analyst</td>\n",
              "      <td>$111K-$181K (Glassdoor est.)</td>\n",
              "      <td>Sapphire Digital seeks a dynamic and driven mi...</td>\n",
              "      <td>3.4</td>\n",
              "      <td>Sapphire Digital\\n3.4</td>\n",
              "      <td>Lyndhurst, NJ</td>\n",
              "      <td>Lyndhurst, NJ</td>\n",
              "      <td>201 to 500 employees</td>\n",
              "      <td>2019</td>\n",
              "      <td>Company - Private</td>\n",
              "      <td>Internet</td>\n",
              "      <td>Information Technology</td>\n",
              "      <td>Unknown / Non-Applicable</td>\n",
              "      <td>Zocdoc, Healthgrades</td>\n",
              "      <td>-1</td>\n",
              "    </tr>\n",
              "    <tr>\n",
              "      <th>4</th>\n",
              "      <td>4</td>\n",
              "      <td>4</td>\n",
              "      <td>Director, Data Science</td>\n",
              "      <td>$111K-$181K (Glassdoor est.)</td>\n",
              "      <td>Director, Data Science - (200537)\\nDescription...</td>\n",
              "      <td>3.4</td>\n",
              "      <td>United Entertainment Group\\n3.4</td>\n",
              "      <td>New York, NY</td>\n",
              "      <td>New York, NY</td>\n",
              "      <td>51 to 200 employees</td>\n",
              "      <td>2007</td>\n",
              "      <td>Company - Private</td>\n",
              "      <td>Advertising &amp; Marketing</td>\n",
              "      <td>Business Services</td>\n",
              "      <td>Unknown / Non-Applicable</td>\n",
              "      <td>BBDO, Grey Group, Droga5</td>\n",
              "      <td>-1</td>\n",
              "    </tr>\n",
              "  </tbody>\n",
              "</table>\n",
              "</div>"
            ],
            "text/plain": [
              "   Unnamed: 0  index                          Job Title  \\\n",
              "0           0      0              Senior Data Scientist   \n",
              "1           1      1  Data Scientist, Product Analytics   \n",
              "2           2      2               Data Science Manager   \n",
              "3           3      3                       Data Analyst   \n",
              "4           4      4             Director, Data Science   \n",
              "\n",
              "                Salary Estimate  \\\n",
              "0  $111K-$181K (Glassdoor est.)   \n",
              "1  $111K-$181K (Glassdoor est.)   \n",
              "2  $111K-$181K (Glassdoor est.)   \n",
              "3  $111K-$181K (Glassdoor est.)   \n",
              "4  $111K-$181K (Glassdoor est.)   \n",
              "\n",
              "                                     Job Description  Rating  \\\n",
              "0  ABOUT HOPPER\\n\\nAt Hopper, we’re on a mission ...     3.5   \n",
              "1  At Noom, we use scientifically proven methods ...     4.5   \n",
              "2  Decode_M\\n\\nhttps://www.decode-m.com/\\n\\nData ...    -1.0   \n",
              "3  Sapphire Digital seeks a dynamic and driven mi...     3.4   \n",
              "4  Director, Data Science - (200537)\\nDescription...     3.4   \n",
              "\n",
              "                      Company Name       Location      Headquarters  \\\n",
              "0                      Hopper\\n3.5   New York, NY  Montreal, Canada   \n",
              "1                     Noom US\\n4.5   New York, NY      New York, NY   \n",
              "2                         Decode_M   New York, NY      New York, NY   \n",
              "3            Sapphire Digital\\n3.4  Lyndhurst, NJ     Lyndhurst, NJ   \n",
              "4  United Entertainment Group\\n3.4   New York, NY      New York, NY   \n",
              "\n",
              "                     Size  Founded  Type of ownership  \\\n",
              "0   501 to 1000 employees     2007  Company - Private   \n",
              "1  1001 to 5000 employees     2008  Company - Private   \n",
              "2       1 to 50 employees       -1            Unknown   \n",
              "3    201 to 500 employees     2019  Company - Private   \n",
              "4     51 to 200 employees     2007  Company - Private   \n",
              "\n",
              "                    Industry                  Sector  \\\n",
              "0            Travel Agencies        Travel & Tourism   \n",
              "1  Health, Beauty, & Fitness       Consumer Services   \n",
              "2                         -1                      -1   \n",
              "3                   Internet  Information Technology   \n",
              "4    Advertising & Marketing       Business Services   \n",
              "\n",
              "                    Revenue               Competitors Easy Apply  \n",
              "0  Unknown / Non-Applicable                        -1         -1  \n",
              "1  Unknown / Non-Applicable                        -1         -1  \n",
              "2  Unknown / Non-Applicable                        -1       True  \n",
              "3  Unknown / Non-Applicable      Zocdoc, Healthgrades         -1  \n",
              "4  Unknown / Non-Applicable  BBDO, Grey Group, Droga5         -1  "
            ]
          },
          "execution_count": 1,
          "metadata": {},
          "output_type": "execute_result"
        }
      ],
      "source": [
        "\n",
        "import pandas as pd\n",
        "\n",
        "# Load dataset\n",
        "\n",
        "ds = pd.read_csv('https://raw.githubusercontent.com/seung-m1nsong/620/main/Project2/DataScientist.csv')\n",
        "\n",
        "ds.head()"
      ]
    },
    {
      "cell_type": "markdown",
      "metadata": {
        "id": "3MScT15Qk7WG"
      },
      "source": [
        "# **Data Wrangling**\n",
        "\n",
        "* Drop first columns in the  dataframe\n",
        "* Remove rows where Industry column is \"-1\""
      ]
    },
    {
      "cell_type": "code",
      "execution_count": 2,
      "metadata": {
        "colab": {
          "base_uri": "https://localhost:8080/",
          "height": 414
        },
        "id": "j09cSK2Pk7WG",
        "outputId": "a82c1220-d7c9-4c35-8d9d-e73fdca9dbc0"
      },
      "outputs": [
        {
          "data": {
            "text/html": [
              "<div>\n",
              "<style scoped>\n",
              "    .dataframe tbody tr th:only-of-type {\n",
              "        vertical-align: middle;\n",
              "    }\n",
              "\n",
              "    .dataframe tbody tr th {\n",
              "        vertical-align: top;\n",
              "    }\n",
              "\n",
              "    .dataframe thead th {\n",
              "        text-align: right;\n",
              "    }\n",
              "</style>\n",
              "<table border=\"1\" class=\"dataframe\">\n",
              "  <thead>\n",
              "    <tr style=\"text-align: right;\">\n",
              "      <th></th>\n",
              "      <th>Unnamed: 0</th>\n",
              "      <th>index</th>\n",
              "      <th>Job Title</th>\n",
              "      <th>Salary Estimate</th>\n",
              "      <th>Job Description</th>\n",
              "      <th>Rating</th>\n",
              "      <th>Company Name</th>\n",
              "      <th>Location</th>\n",
              "      <th>Headquarters</th>\n",
              "      <th>Size</th>\n",
              "      <th>Founded</th>\n",
              "      <th>Type of ownership</th>\n",
              "      <th>Industry</th>\n",
              "      <th>Sector</th>\n",
              "      <th>Revenue</th>\n",
              "      <th>Competitors</th>\n",
              "      <th>Easy Apply</th>\n",
              "    </tr>\n",
              "  </thead>\n",
              "  <tbody>\n",
              "    <tr>\n",
              "      <th>0</th>\n",
              "      <td>0</td>\n",
              "      <td>0</td>\n",
              "      <td>Senior Data Scientist</td>\n",
              "      <td>$111K-$181K (Glassdoor est.)</td>\n",
              "      <td>ABOUT HOPPER\\n\\nAt Hopper, we’re on a mission ...</td>\n",
              "      <td>3.5</td>\n",
              "      <td>Hopper\\n3.5</td>\n",
              "      <td>New York, NY</td>\n",
              "      <td>Montreal, Canada</td>\n",
              "      <td>501 to 1000 employees</td>\n",
              "      <td>2007</td>\n",
              "      <td>Company - Private</td>\n",
              "      <td>Travel Agencies</td>\n",
              "      <td>Travel &amp; Tourism</td>\n",
              "      <td>Unknown / Non-Applicable</td>\n",
              "      <td>-1</td>\n",
              "      <td>-1</td>\n",
              "    </tr>\n",
              "    <tr>\n",
              "      <th>1</th>\n",
              "      <td>1</td>\n",
              "      <td>1</td>\n",
              "      <td>Data Scientist, Product Analytics</td>\n",
              "      <td>$111K-$181K (Glassdoor est.)</td>\n",
              "      <td>At Noom, we use scientifically proven methods ...</td>\n",
              "      <td>4.5</td>\n",
              "      <td>Noom US\\n4.5</td>\n",
              "      <td>New York, NY</td>\n",
              "      <td>New York, NY</td>\n",
              "      <td>1001 to 5000 employees</td>\n",
              "      <td>2008</td>\n",
              "      <td>Company - Private</td>\n",
              "      <td>Health, Beauty, &amp; Fitness</td>\n",
              "      <td>Consumer Services</td>\n",
              "      <td>Unknown / Non-Applicable</td>\n",
              "      <td>-1</td>\n",
              "      <td>-1</td>\n",
              "    </tr>\n",
              "    <tr>\n",
              "      <th>3</th>\n",
              "      <td>3</td>\n",
              "      <td>3</td>\n",
              "      <td>Data Analyst</td>\n",
              "      <td>$111K-$181K (Glassdoor est.)</td>\n",
              "      <td>Sapphire Digital seeks a dynamic and driven mi...</td>\n",
              "      <td>3.4</td>\n",
              "      <td>Sapphire Digital\\n3.4</td>\n",
              "      <td>Lyndhurst, NJ</td>\n",
              "      <td>Lyndhurst, NJ</td>\n",
              "      <td>201 to 500 employees</td>\n",
              "      <td>2019</td>\n",
              "      <td>Company - Private</td>\n",
              "      <td>Internet</td>\n",
              "      <td>Information Technology</td>\n",
              "      <td>Unknown / Non-Applicable</td>\n",
              "      <td>Zocdoc, Healthgrades</td>\n",
              "      <td>-1</td>\n",
              "    </tr>\n",
              "    <tr>\n",
              "      <th>4</th>\n",
              "      <td>4</td>\n",
              "      <td>4</td>\n",
              "      <td>Director, Data Science</td>\n",
              "      <td>$111K-$181K (Glassdoor est.)</td>\n",
              "      <td>Director, Data Science - (200537)\\nDescription...</td>\n",
              "      <td>3.4</td>\n",
              "      <td>United Entertainment Group\\n3.4</td>\n",
              "      <td>New York, NY</td>\n",
              "      <td>New York, NY</td>\n",
              "      <td>51 to 200 employees</td>\n",
              "      <td>2007</td>\n",
              "      <td>Company - Private</td>\n",
              "      <td>Advertising &amp; Marketing</td>\n",
              "      <td>Business Services</td>\n",
              "      <td>Unknown / Non-Applicable</td>\n",
              "      <td>BBDO, Grey Group, Droga5</td>\n",
              "      <td>-1</td>\n",
              "    </tr>\n",
              "    <tr>\n",
              "      <th>5</th>\n",
              "      <td>5</td>\n",
              "      <td>5</td>\n",
              "      <td>Data Scientist</td>\n",
              "      <td>$111K-$181K (Glassdoor est.)</td>\n",
              "      <td>Job Brief\\n\\nThe ideal candidate will have pre...</td>\n",
              "      <td>2.9</td>\n",
              "      <td>IFG Companies\\n2.9</td>\n",
              "      <td>New York, NY</td>\n",
              "      <td>Hartford, CT</td>\n",
              "      <td>201 to 500 employees</td>\n",
              "      <td>1985</td>\n",
              "      <td>Company - Private</td>\n",
              "      <td>Insurance Carriers</td>\n",
              "      <td>Insurance</td>\n",
              "      <td>Unknown / Non-Applicable</td>\n",
              "      <td>Colony Specialty, Markel, RLI</td>\n",
              "      <td>-1</td>\n",
              "    </tr>\n",
              "  </tbody>\n",
              "</table>\n",
              "</div>"
            ],
            "text/plain": [
              "   Unnamed: 0  index                          Job Title  \\\n",
              "0           0      0              Senior Data Scientist   \n",
              "1           1      1  Data Scientist, Product Analytics   \n",
              "3           3      3                       Data Analyst   \n",
              "4           4      4             Director, Data Science   \n",
              "5           5      5                     Data Scientist   \n",
              "\n",
              "                Salary Estimate  \\\n",
              "0  $111K-$181K (Glassdoor est.)   \n",
              "1  $111K-$181K (Glassdoor est.)   \n",
              "3  $111K-$181K (Glassdoor est.)   \n",
              "4  $111K-$181K (Glassdoor est.)   \n",
              "5  $111K-$181K (Glassdoor est.)   \n",
              "\n",
              "                                     Job Description  Rating  \\\n",
              "0  ABOUT HOPPER\\n\\nAt Hopper, we’re on a mission ...     3.5   \n",
              "1  At Noom, we use scientifically proven methods ...     4.5   \n",
              "3  Sapphire Digital seeks a dynamic and driven mi...     3.4   \n",
              "4  Director, Data Science - (200537)\\nDescription...     3.4   \n",
              "5  Job Brief\\n\\nThe ideal candidate will have pre...     2.9   \n",
              "\n",
              "                      Company Name       Location      Headquarters  \\\n",
              "0                      Hopper\\n3.5   New York, NY  Montreal, Canada   \n",
              "1                     Noom US\\n4.5   New York, NY      New York, NY   \n",
              "3            Sapphire Digital\\n3.4  Lyndhurst, NJ     Lyndhurst, NJ   \n",
              "4  United Entertainment Group\\n3.4   New York, NY      New York, NY   \n",
              "5               IFG Companies\\n2.9   New York, NY      Hartford, CT   \n",
              "\n",
              "                     Size  Founded  Type of ownership  \\\n",
              "0   501 to 1000 employees     2007  Company - Private   \n",
              "1  1001 to 5000 employees     2008  Company - Private   \n",
              "3    201 to 500 employees     2019  Company - Private   \n",
              "4     51 to 200 employees     2007  Company - Private   \n",
              "5    201 to 500 employees     1985  Company - Private   \n",
              "\n",
              "                    Industry                  Sector  \\\n",
              "0            Travel Agencies        Travel & Tourism   \n",
              "1  Health, Beauty, & Fitness       Consumer Services   \n",
              "3                   Internet  Information Technology   \n",
              "4    Advertising & Marketing       Business Services   \n",
              "5         Insurance Carriers               Insurance   \n",
              "\n",
              "                    Revenue                    Competitors Easy Apply  \n",
              "0  Unknown / Non-Applicable                             -1         -1  \n",
              "1  Unknown / Non-Applicable                             -1         -1  \n",
              "3  Unknown / Non-Applicable           Zocdoc, Healthgrades         -1  \n",
              "4  Unknown / Non-Applicable       BBDO, Grey Group, Droga5         -1  \n",
              "5  Unknown / Non-Applicable  Colony Specialty, Markel, RLI         -1  "
            ]
          },
          "execution_count": 2,
          "metadata": {},
          "output_type": "execute_result"
        }
      ],
      "source": [
        "#ds = ds.drop(ds.columns[0], axis=1)\n",
        "ds = ds[ds['Industry'] != \"-1\" ]\n",
        "ds.head()"
      ]
    },
    {
      "cell_type": "code",
      "execution_count": 3,
      "metadata": {
        "colab": {
          "base_uri": "https://localhost:8080/",
          "height": 414
        },
        "id": "AIV6hAPMk7WG",
        "outputId": "ce17b964-1213-47a0-cb6a-eae2e0b4dbf9"
      },
      "outputs": [
        {
          "data": {
            "text/html": [
              "<div>\n",
              "<style scoped>\n",
              "    .dataframe tbody tr th:only-of-type {\n",
              "        vertical-align: middle;\n",
              "    }\n",
              "\n",
              "    .dataframe tbody tr th {\n",
              "        vertical-align: top;\n",
              "    }\n",
              "\n",
              "    .dataframe thead th {\n",
              "        text-align: right;\n",
              "    }\n",
              "</style>\n",
              "<table border=\"1\" class=\"dataframe\">\n",
              "  <thead>\n",
              "    <tr style=\"text-align: right;\">\n",
              "      <th></th>\n",
              "      <th>Unnamed: 0</th>\n",
              "      <th>index</th>\n",
              "      <th>Job Title</th>\n",
              "      <th>Salary Estimate</th>\n",
              "      <th>Job Description</th>\n",
              "      <th>Rating</th>\n",
              "      <th>Company Name</th>\n",
              "      <th>Location</th>\n",
              "      <th>Headquarters</th>\n",
              "      <th>Size</th>\n",
              "      <th>Founded</th>\n",
              "      <th>Type of ownership</th>\n",
              "      <th>Industry</th>\n",
              "      <th>Sector</th>\n",
              "      <th>Revenue</th>\n",
              "      <th>Competitors</th>\n",
              "      <th>Easy Apply</th>\n",
              "    </tr>\n",
              "  </thead>\n",
              "  <tbody>\n",
              "    <tr>\n",
              "      <th>0</th>\n",
              "      <td>0</td>\n",
              "      <td>0</td>\n",
              "      <td>Senior Data Scientist</td>\n",
              "      <td>$111K-$181K</td>\n",
              "      <td>ABOUT HOPPER\\n\\nAt Hopper, we’re on a mission ...</td>\n",
              "      <td>3.5</td>\n",
              "      <td>Hopper\\n3.5</td>\n",
              "      <td>New York, NY</td>\n",
              "      <td>Montreal, Canada</td>\n",
              "      <td>501 to 1000 employees</td>\n",
              "      <td>2007</td>\n",
              "      <td>Company - Private</td>\n",
              "      <td>Travel Agencies</td>\n",
              "      <td>Travel &amp; Tourism</td>\n",
              "      <td>Unknown / Non-Applicable</td>\n",
              "      <td>-1</td>\n",
              "      <td>-1</td>\n",
              "    </tr>\n",
              "    <tr>\n",
              "      <th>1</th>\n",
              "      <td>1</td>\n",
              "      <td>1</td>\n",
              "      <td>Data Scientist, Product Analytics</td>\n",
              "      <td>$111K-$181K</td>\n",
              "      <td>At Noom, we use scientifically proven methods ...</td>\n",
              "      <td>4.5</td>\n",
              "      <td>Noom US\\n4.5</td>\n",
              "      <td>New York, NY</td>\n",
              "      <td>New York, NY</td>\n",
              "      <td>1001 to 5000 employees</td>\n",
              "      <td>2008</td>\n",
              "      <td>Company - Private</td>\n",
              "      <td>Health, Beauty, &amp; Fitness</td>\n",
              "      <td>Consumer Services</td>\n",
              "      <td>Unknown / Non-Applicable</td>\n",
              "      <td>-1</td>\n",
              "      <td>-1</td>\n",
              "    </tr>\n",
              "    <tr>\n",
              "      <th>3</th>\n",
              "      <td>3</td>\n",
              "      <td>3</td>\n",
              "      <td>Data Analyst</td>\n",
              "      <td>$111K-$181K</td>\n",
              "      <td>Sapphire Digital seeks a dynamic and driven mi...</td>\n",
              "      <td>3.4</td>\n",
              "      <td>Sapphire Digital\\n3.4</td>\n",
              "      <td>Lyndhurst, NJ</td>\n",
              "      <td>Lyndhurst, NJ</td>\n",
              "      <td>201 to 500 employees</td>\n",
              "      <td>2019</td>\n",
              "      <td>Company - Private</td>\n",
              "      <td>Internet</td>\n",
              "      <td>Information Technology</td>\n",
              "      <td>Unknown / Non-Applicable</td>\n",
              "      <td>Zocdoc, Healthgrades</td>\n",
              "      <td>-1</td>\n",
              "    </tr>\n",
              "    <tr>\n",
              "      <th>4</th>\n",
              "      <td>4</td>\n",
              "      <td>4</td>\n",
              "      <td>Director, Data Science</td>\n",
              "      <td>$111K-$181K</td>\n",
              "      <td>Director, Data Science - (200537)\\nDescription...</td>\n",
              "      <td>3.4</td>\n",
              "      <td>United Entertainment Group\\n3.4</td>\n",
              "      <td>New York, NY</td>\n",
              "      <td>New York, NY</td>\n",
              "      <td>51 to 200 employees</td>\n",
              "      <td>2007</td>\n",
              "      <td>Company - Private</td>\n",
              "      <td>Advertising &amp; Marketing</td>\n",
              "      <td>Business Services</td>\n",
              "      <td>Unknown / Non-Applicable</td>\n",
              "      <td>BBDO, Grey Group, Droga5</td>\n",
              "      <td>-1</td>\n",
              "    </tr>\n",
              "    <tr>\n",
              "      <th>5</th>\n",
              "      <td>5</td>\n",
              "      <td>5</td>\n",
              "      <td>Data Scientist</td>\n",
              "      <td>$111K-$181K</td>\n",
              "      <td>Job Brief\\n\\nThe ideal candidate will have pre...</td>\n",
              "      <td>2.9</td>\n",
              "      <td>IFG Companies\\n2.9</td>\n",
              "      <td>New York, NY</td>\n",
              "      <td>Hartford, CT</td>\n",
              "      <td>201 to 500 employees</td>\n",
              "      <td>1985</td>\n",
              "      <td>Company - Private</td>\n",
              "      <td>Insurance Carriers</td>\n",
              "      <td>Insurance</td>\n",
              "      <td>Unknown / Non-Applicable</td>\n",
              "      <td>Colony Specialty, Markel, RLI</td>\n",
              "      <td>-1</td>\n",
              "    </tr>\n",
              "  </tbody>\n",
              "</table>\n",
              "</div>"
            ],
            "text/plain": [
              "   Unnamed: 0  index                          Job Title Salary Estimate  \\\n",
              "0           0      0              Senior Data Scientist     $111K-$181K   \n",
              "1           1      1  Data Scientist, Product Analytics     $111K-$181K   \n",
              "3           3      3                       Data Analyst     $111K-$181K   \n",
              "4           4      4             Director, Data Science     $111K-$181K   \n",
              "5           5      5                     Data Scientist     $111K-$181K   \n",
              "\n",
              "                                     Job Description  Rating  \\\n",
              "0  ABOUT HOPPER\\n\\nAt Hopper, we’re on a mission ...     3.5   \n",
              "1  At Noom, we use scientifically proven methods ...     4.5   \n",
              "3  Sapphire Digital seeks a dynamic and driven mi...     3.4   \n",
              "4  Director, Data Science - (200537)\\nDescription...     3.4   \n",
              "5  Job Brief\\n\\nThe ideal candidate will have pre...     2.9   \n",
              "\n",
              "                      Company Name       Location      Headquarters  \\\n",
              "0                      Hopper\\n3.5   New York, NY  Montreal, Canada   \n",
              "1                     Noom US\\n4.5   New York, NY      New York, NY   \n",
              "3            Sapphire Digital\\n3.4  Lyndhurst, NJ     Lyndhurst, NJ   \n",
              "4  United Entertainment Group\\n3.4   New York, NY      New York, NY   \n",
              "5               IFG Companies\\n2.9   New York, NY      Hartford, CT   \n",
              "\n",
              "                     Size  Founded  Type of ownership  \\\n",
              "0   501 to 1000 employees     2007  Company - Private   \n",
              "1  1001 to 5000 employees     2008  Company - Private   \n",
              "3    201 to 500 employees     2019  Company - Private   \n",
              "4     51 to 200 employees     2007  Company - Private   \n",
              "5    201 to 500 employees     1985  Company - Private   \n",
              "\n",
              "                    Industry                  Sector  \\\n",
              "0            Travel Agencies        Travel & Tourism   \n",
              "1  Health, Beauty, & Fitness       Consumer Services   \n",
              "3                   Internet  Information Technology   \n",
              "4    Advertising & Marketing       Business Services   \n",
              "5         Insurance Carriers               Insurance   \n",
              "\n",
              "                    Revenue                    Competitors Easy Apply  \n",
              "0  Unknown / Non-Applicable                             -1         -1  \n",
              "1  Unknown / Non-Applicable                             -1         -1  \n",
              "3  Unknown / Non-Applicable           Zocdoc, Healthgrades         -1  \n",
              "4  Unknown / Non-Applicable       BBDO, Grey Group, Droga5         -1  \n",
              "5  Unknown / Non-Applicable  Colony Specialty, Markel, RLI         -1  "
            ]
          },
          "execution_count": 3,
          "metadata": {},
          "output_type": "execute_result"
        }
      ],
      "source": [
        "ds['Salary Estimate'] = ds['Salary Estimate'].apply(lambda x: x.replace(' (Glassdoor est.)', ''))\n",
        "ds.head()"
      ]
    },
    {
      "cell_type": "code",
      "execution_count": 4,
      "metadata": {
        "colab": {
          "base_uri": "https://localhost:8080/",
          "height": 206
        },
        "id": "l8_pSFH9k7WH",
        "outputId": "37396b55-1e72-4562-8860-c35f54a8dec2"
      },
      "outputs": [
        {
          "data": {
            "text/html": [
              "<div>\n",
              "<style scoped>\n",
              "    .dataframe tbody tr th:only-of-type {\n",
              "        vertical-align: middle;\n",
              "    }\n",
              "\n",
              "    .dataframe tbody tr th {\n",
              "        vertical-align: top;\n",
              "    }\n",
              "\n",
              "    .dataframe thead th {\n",
              "        text-align: right;\n",
              "    }\n",
              "</style>\n",
              "<table border=\"1\" class=\"dataframe\">\n",
              "  <thead>\n",
              "    <tr style=\"text-align: right;\">\n",
              "      <th></th>\n",
              "      <th>Job Title</th>\n",
              "      <th>Salary Estimate</th>\n",
              "      <th>Location</th>\n",
              "      <th>Industry</th>\n",
              "    </tr>\n",
              "  </thead>\n",
              "  <tbody>\n",
              "    <tr>\n",
              "      <th>0</th>\n",
              "      <td>Senior Data Scientist</td>\n",
              "      <td>$111K-$181K</td>\n",
              "      <td>New York, NY</td>\n",
              "      <td>Travel Agencies</td>\n",
              "    </tr>\n",
              "    <tr>\n",
              "      <th>1</th>\n",
              "      <td>Data Scientist, Product Analytics</td>\n",
              "      <td>$111K-$181K</td>\n",
              "      <td>New York, NY</td>\n",
              "      <td>Health, Beauty, &amp; Fitness</td>\n",
              "    </tr>\n",
              "    <tr>\n",
              "      <th>3</th>\n",
              "      <td>Data Analyst</td>\n",
              "      <td>$111K-$181K</td>\n",
              "      <td>Lyndhurst, NJ</td>\n",
              "      <td>Internet</td>\n",
              "    </tr>\n",
              "    <tr>\n",
              "      <th>4</th>\n",
              "      <td>Director, Data Science</td>\n",
              "      <td>$111K-$181K</td>\n",
              "      <td>New York, NY</td>\n",
              "      <td>Advertising &amp; Marketing</td>\n",
              "    </tr>\n",
              "    <tr>\n",
              "      <th>5</th>\n",
              "      <td>Data Scientist</td>\n",
              "      <td>$111K-$181K</td>\n",
              "      <td>New York, NY</td>\n",
              "      <td>Insurance Carriers</td>\n",
              "    </tr>\n",
              "  </tbody>\n",
              "</table>\n",
              "</div>"
            ],
            "text/plain": [
              "                           Job Title Salary Estimate       Location  \\\n",
              "0              Senior Data Scientist     $111K-$181K   New York, NY   \n",
              "1  Data Scientist, Product Analytics     $111K-$181K   New York, NY   \n",
              "3                       Data Analyst     $111K-$181K  Lyndhurst, NJ   \n",
              "4             Director, Data Science     $111K-$181K   New York, NY   \n",
              "5                     Data Scientist     $111K-$181K   New York, NY   \n",
              "\n",
              "                    Industry  \n",
              "0            Travel Agencies  \n",
              "1  Health, Beauty, & Fitness  \n",
              "3                   Internet  \n",
              "4    Advertising & Marketing  \n",
              "5         Insurance Carriers  "
            ]
          },
          "execution_count": 4,
          "metadata": {},
          "output_type": "execute_result"
        }
      ],
      "source": [
        "ds_df = ds[['Job Title', 'Salary Estimate', 'Location', 'Industry']].copy()\n",
        "ds_df.head()"
      ]
    },
    {
      "cell_type": "markdown",
      "metadata": {
        "id": "rWYM5tYHk7WH"
      },
      "source": [
        "Get information about the filtered DataFrame"
      ]
    },
    {
      "cell_type": "code",
      "execution_count": 5,
      "metadata": {
        "colab": {
          "base_uri": "https://localhost:8080/"
        },
        "id": "WHiVrDSsk7WH",
        "outputId": "ad4d024c-d993-47ea-8fac-347321f6d75a"
      },
      "outputs": [
        {
          "name": "stdout",
          "output_type": "stream",
          "text": [
            "<class 'pandas.core.frame.DataFrame'>\n",
            "Int64Index: 3363 entries, 0 to 3908\n",
            "Data columns (total 4 columns):\n",
            " #   Column           Non-Null Count  Dtype \n",
            "---  ------           --------------  ----- \n",
            " 0   Job Title        3363 non-null   object\n",
            " 1   Salary Estimate  3363 non-null   object\n",
            " 2   Location         3363 non-null   object\n",
            " 3   Industry         3363 non-null   object\n",
            "dtypes: object(4)\n",
            "memory usage: 131.4+ KB\n"
          ]
        }
      ],
      "source": [
        "ds_df.info()"
      ]
    },
    {
      "cell_type": "markdown",
      "metadata": {
        "id": "SEamAW7Mk7WH"
      },
      "source": [
        "## **Create data frame**\n",
        "\n",
        "* Job Title & Salary Estimate\n",
        "  * Job Title & Salary Estimate information shows which occupation falls into which salary range.\n",
        "* Job Title & Industry\n",
        "  * Job Title & Industry information shows which occupations and industries are most likely to be employed.\n",
        "\n"
      ]
    },
    {
      "cell_type": "code",
      "execution_count": 6,
      "metadata": {
        "colab": {
          "base_uri": "https://localhost:8080/"
        },
        "id": "tbsJo34ok7WI",
        "outputId": "2f6fe0a2-830a-4d86-bdd1-e629ba4efeb4"
      },
      "outputs": [
        {
          "name": "stdout",
          "output_type": "stream",
          "text": [
            "Job Title & Salary Estimate:\n",
            "                           Job Title Salary Estimate\n",
            "0              Senior Data Scientist     $111K-$181K\n",
            "1  Data Scientist, Product Analytics     $111K-$181K\n",
            "3                       Data Analyst     $111K-$181K\n",
            "4             Director, Data Science     $111K-$181K\n",
            "5                     Data Scientist     $111K-$181K\n",
            "\n",
            "Job Title & Industry:\n",
            "                           Job Title                   Industry\n",
            "0              Senior Data Scientist            Travel Agencies\n",
            "1  Data Scientist, Product Analytics  Health, Beauty, & Fitness\n",
            "3                       Data Analyst                   Internet\n",
            "4             Director, Data Science    Advertising & Marketing\n",
            "5                     Data Scientist         Insurance Carriers\n"
          ]
        }
      ],
      "source": [
        "# Create a data frame containing only the 'Job Title' and 'Salary Estimate' columns\n",
        "ds_job_salary_df = ds_df[['Job Title', 'Salary Estimate']].copy()\n",
        "\n",
        "# Create a data frame containing only the ‘Job Title’ and ‘Location’ columns.\n",
        "ds_job_industry_df = ds_df[['Job Title', 'Industry']].copy()\n",
        "\n",
        "# result\n",
        "print(\"Job Title & Salary Estimate:\")\n",
        "print(ds_job_salary_df.head())\n",
        "print(\"\\nJob Title & Industry:\")\n",
        "print(ds_job_industry_df.head())"
      ]
    },
    {
      "cell_type": "markdown",
      "metadata": {
        "id": "Qw-AYdPok7WI"
      },
      "source": [
        "Create a network with Job Title + Salary"
      ]
    },
    {
      "cell_type": "code",
      "execution_count": 7,
      "metadata": {
        "colab": {
          "base_uri": "https://localhost:8080/"
        },
        "id": "foMhFueok7WI",
        "outputId": "6fb538b6-0160-4b76-9a63-6f4031443999"
      },
      "outputs": [
        {
          "name": "stdout",
          "output_type": "stream",
          "text": [
            "                              Source       Target\n",
            "0              Senior Data Scientist  $111K-$181K\n",
            "1  Data Scientist, Product Analytics  $111K-$181K\n",
            "3                       Data Analyst  $111K-$181K\n",
            "4             Director, Data Science  $111K-$181K\n",
            "5                     Data Scientist  $111K-$181K\n"
          ]
        }
      ],
      "source": [
        "nt = pd.DataFrame({'Source': ds_job_salary_df['Job Title'], 'Target': ds_job_salary_df['Salary Estimate']})\n",
        "print(nt.head())"
      ]
    },
    {
      "cell_type": "code",
      "execution_count": 8,
      "metadata": {
        "colab": {
          "base_uri": "https://localhost:8080/",
          "height": 423
        },
        "id": "POweljVdk7WJ",
        "outputId": "4cfe7761-c899-4c8f-db8d-726c6d68e6e4"
      },
      "outputs": [
        {
          "data": {
            "text/html": [
              "<div>\n",
              "<style scoped>\n",
              "    .dataframe tbody tr th:only-of-type {\n",
              "        vertical-align: middle;\n",
              "    }\n",
              "\n",
              "    .dataframe tbody tr th {\n",
              "        vertical-align: top;\n",
              "    }\n",
              "\n",
              "    .dataframe thead th {\n",
              "        text-align: right;\n",
              "    }\n",
              "</style>\n",
              "<table border=\"1\" class=\"dataframe\">\n",
              "  <thead>\n",
              "    <tr style=\"text-align: right;\">\n",
              "      <th></th>\n",
              "      <th>Source</th>\n",
              "      <th>Target</th>\n",
              "      <th>weight</th>\n",
              "    </tr>\n",
              "  </thead>\n",
              "  <tbody>\n",
              "    <tr>\n",
              "      <th>0</th>\n",
              "      <td>Senior Data Scientist</td>\n",
              "      <td>$111K-$181K</td>\n",
              "      <td>1</td>\n",
              "    </tr>\n",
              "    <tr>\n",
              "      <th>1</th>\n",
              "      <td>Data Scientist, Product Analytics</td>\n",
              "      <td>$111K-$181K</td>\n",
              "      <td>1</td>\n",
              "    </tr>\n",
              "    <tr>\n",
              "      <th>3</th>\n",
              "      <td>Data Analyst</td>\n",
              "      <td>$111K-$181K</td>\n",
              "      <td>1</td>\n",
              "    </tr>\n",
              "    <tr>\n",
              "      <th>4</th>\n",
              "      <td>Director, Data Science</td>\n",
              "      <td>$111K-$181K</td>\n",
              "      <td>1</td>\n",
              "    </tr>\n",
              "    <tr>\n",
              "      <th>5</th>\n",
              "      <td>Data Scientist</td>\n",
              "      <td>$111K-$181K</td>\n",
              "      <td>7</td>\n",
              "    </tr>\n",
              "    <tr>\n",
              "      <th>...</th>\n",
              "      <td>...</td>\n",
              "      <td>...</td>\n",
              "      <td>...</td>\n",
              "    </tr>\n",
              "    <tr>\n",
              "      <th>3904</th>\n",
              "      <td>AWS Data Engineer</td>\n",
              "      <td>$55K-$112K</td>\n",
              "      <td>1</td>\n",
              "    </tr>\n",
              "    <tr>\n",
              "      <th>3905</th>\n",
              "      <td>Data Analyst â Junior</td>\n",
              "      <td>$55K-$112K</td>\n",
              "      <td>1</td>\n",
              "    </tr>\n",
              "    <tr>\n",
              "      <th>3906</th>\n",
              "      <td>Security Analytics Data Engineer</td>\n",
              "      <td>$55K-$112K</td>\n",
              "      <td>2</td>\n",
              "    </tr>\n",
              "    <tr>\n",
              "      <th>3907</th>\n",
              "      <td>Security Analytics Data Engineer</td>\n",
              "      <td>$55K-$112K</td>\n",
              "      <td>2</td>\n",
              "    </tr>\n",
              "    <tr>\n",
              "      <th>3908</th>\n",
              "      <td>Patient Safety Physician or Safety Scientist -...</td>\n",
              "      <td>$55K-$112K</td>\n",
              "      <td>1</td>\n",
              "    </tr>\n",
              "  </tbody>\n",
              "</table>\n",
              "<p>3363 rows × 3 columns</p>\n",
              "</div>"
            ],
            "text/plain": [
              "                                                 Source       Target  weight\n",
              "0                                 Senior Data Scientist  $111K-$181K       1\n",
              "1                     Data Scientist, Product Analytics  $111K-$181K       1\n",
              "3                                          Data Analyst  $111K-$181K       1\n",
              "4                                Director, Data Science  $111K-$181K       1\n",
              "5                                        Data Scientist  $111K-$181K       7\n",
              "...                                                 ...          ...     ...\n",
              "3904                                  AWS Data Engineer   $55K-$112K       1\n",
              "3905                              Data Analyst â Junior   $55K-$112K       1\n",
              "3906                   Security Analytics Data Engineer   $55K-$112K       2\n",
              "3907                   Security Analytics Data Engineer   $55K-$112K       2\n",
              "3908  Patient Safety Physician or Safety Scientist -...   $55K-$112K       1\n",
              "\n",
              "[3363 rows x 3 columns]"
            ]
          },
          "execution_count": 8,
          "metadata": {},
          "output_type": "execute_result"
        }
      ],
      "source": [
        "import networkx as nx\n",
        "nt['weight'] = nt.groupby(['Source', 'Target'])['Source'].transform('size')\n",
        "nt = nt.dropna()\n",
        "\n",
        "G = nx.from_pandas_edgelist(nt, 'Source', 'Target',\n",
        "                            create_using=nx.DiGraph(), edge_attr='weight')\n",
        "nt\n",
        "\n",
        "#nt.to_csv('nt1.csv', index=False)"
      ]
    },
    {
      "cell_type": "markdown",
      "metadata": {
        "id": "Um-MGSn5k7WJ"
      },
      "source": [
        "Create a network with Job Title +Industy"
      ]
    },
    {
      "cell_type": "code",
      "execution_count": 9,
      "metadata": {
        "colab": {
          "base_uri": "https://localhost:8080/"
        },
        "id": "x2tpNnr5k7WJ",
        "outputId": "6815397b-9c69-4e1b-cf77-e4a30abe95ad"
      },
      "outputs": [
        {
          "name": "stdout",
          "output_type": "stream",
          "text": [
            "                              source                     target\n",
            "0              Senior Data Scientist            Travel Agencies\n",
            "1  Data Scientist, Product Analytics  Health, Beauty, & Fitness\n",
            "3                       Data Analyst                   Internet\n",
            "4             Director, Data Science    Advertising & Marketing\n",
            "5                     Data Scientist         Insurance Carriers\n"
          ]
        }
      ],
      "source": [
        "nt2 = pd.DataFrame({'source': ds_job_industry_df['Job Title'], 'target': ds_job_industry_df['Industry']})\n",
        "print(nt2.head())"
      ]
    },
    {
      "cell_type": "code",
      "execution_count": 10,
      "metadata": {
        "colab": {
          "base_uri": "https://localhost:8080/",
          "height": 423
        },
        "id": "cW3tXlYFk7WJ",
        "outputId": "348b2c33-b9fd-434e-deb9-0b77e8d942ae"
      },
      "outputs": [
        {
          "data": {
            "text/html": [
              "<div>\n",
              "<style scoped>\n",
              "    .dataframe tbody tr th:only-of-type {\n",
              "        vertical-align: middle;\n",
              "    }\n",
              "\n",
              "    .dataframe tbody tr th {\n",
              "        vertical-align: top;\n",
              "    }\n",
              "\n",
              "    .dataframe thead th {\n",
              "        text-align: right;\n",
              "    }\n",
              "</style>\n",
              "<table border=\"1\" class=\"dataframe\">\n",
              "  <thead>\n",
              "    <tr style=\"text-align: right;\">\n",
              "      <th></th>\n",
              "      <th>source</th>\n",
              "      <th>target</th>\n",
              "      <th>weight</th>\n",
              "    </tr>\n",
              "  </thead>\n",
              "  <tbody>\n",
              "    <tr>\n",
              "      <th>0</th>\n",
              "      <td>Senior Data Scientist</td>\n",
              "      <td>Travel Agencies</td>\n",
              "      <td>1</td>\n",
              "    </tr>\n",
              "    <tr>\n",
              "      <th>1</th>\n",
              "      <td>Data Scientist, Product Analytics</td>\n",
              "      <td>Health, Beauty, &amp; Fitness</td>\n",
              "      <td>1</td>\n",
              "    </tr>\n",
              "    <tr>\n",
              "      <th>3</th>\n",
              "      <td>Data Analyst</td>\n",
              "      <td>Internet</td>\n",
              "      <td>8</td>\n",
              "    </tr>\n",
              "    <tr>\n",
              "      <th>4</th>\n",
              "      <td>Director, Data Science</td>\n",
              "      <td>Advertising &amp; Marketing</td>\n",
              "      <td>1</td>\n",
              "    </tr>\n",
              "    <tr>\n",
              "      <th>5</th>\n",
              "      <td>Data Scientist</td>\n",
              "      <td>Insurance Carriers</td>\n",
              "      <td>4</td>\n",
              "    </tr>\n",
              "    <tr>\n",
              "      <th>...</th>\n",
              "      <td>...</td>\n",
              "      <td>...</td>\n",
              "      <td>...</td>\n",
              "    </tr>\n",
              "    <tr>\n",
              "      <th>3904</th>\n",
              "      <td>AWS Data Engineer</td>\n",
              "      <td>IT Services</td>\n",
              "      <td>2</td>\n",
              "    </tr>\n",
              "    <tr>\n",
              "      <th>3905</th>\n",
              "      <td>Data Analyst â Junior</td>\n",
              "      <td>IT Services</td>\n",
              "      <td>3</td>\n",
              "    </tr>\n",
              "    <tr>\n",
              "      <th>3906</th>\n",
              "      <td>Security Analytics Data Engineer</td>\n",
              "      <td>Staffing &amp; Outsourcing</td>\n",
              "      <td>1</td>\n",
              "    </tr>\n",
              "    <tr>\n",
              "      <th>3907</th>\n",
              "      <td>Security Analytics Data Engineer</td>\n",
              "      <td>Accounting</td>\n",
              "      <td>1</td>\n",
              "    </tr>\n",
              "    <tr>\n",
              "      <th>3908</th>\n",
              "      <td>Patient Safety Physician or Safety Scientist -...</td>\n",
              "      <td>Biotech &amp; Pharmaceuticals</td>\n",
              "      <td>1</td>\n",
              "    </tr>\n",
              "  </tbody>\n",
              "</table>\n",
              "<p>3363 rows × 3 columns</p>\n",
              "</div>"
            ],
            "text/plain": [
              "                                                 source  \\\n",
              "0                                 Senior Data Scientist   \n",
              "1                     Data Scientist, Product Analytics   \n",
              "3                                          Data Analyst   \n",
              "4                                Director, Data Science   \n",
              "5                                        Data Scientist   \n",
              "...                                                 ...   \n",
              "3904                                  AWS Data Engineer   \n",
              "3905                              Data Analyst â Junior   \n",
              "3906                   Security Analytics Data Engineer   \n",
              "3907                   Security Analytics Data Engineer   \n",
              "3908  Patient Safety Physician or Safety Scientist -...   \n",
              "\n",
              "                         target  weight  \n",
              "0               Travel Agencies       1  \n",
              "1     Health, Beauty, & Fitness       1  \n",
              "3                      Internet       8  \n",
              "4       Advertising & Marketing       1  \n",
              "5            Insurance Carriers       4  \n",
              "...                         ...     ...  \n",
              "3904                IT Services       2  \n",
              "3905                IT Services       3  \n",
              "3906     Staffing & Outsourcing       1  \n",
              "3907                 Accounting       1  \n",
              "3908  Biotech & Pharmaceuticals       1  \n",
              "\n",
              "[3363 rows x 3 columns]"
            ]
          },
          "execution_count": 10,
          "metadata": {},
          "output_type": "execute_result"
        }
      ],
      "source": [
        "nt2['weight'] = nt2.groupby(['source', 'target'])['source'].transform('size')\n",
        "\n",
        "nt2 = nt2.dropna()\n",
        "\n",
        "G = nx.from_pandas_edgelist(nt2, 'source', 'target',\n",
        "                            create_using=nx.DiGraph(), edge_attr='weight')\n",
        "nt2\n"
      ]
    },
    {
      "cell_type": "markdown",
      "metadata": {
        "id": "rfxiOIcSk7WK"
      },
      "source": [
        "## **Node Size (Job + Salary)**\n",
        "\n",
        "Outputs a data frame showing the top 15 'Sources' with the most 'weight' associated with the same Job Title and the same Salary and their total 'weight'. This can be used to identify the most important or influential nodes in the network."
      ]
    },
    {
      "cell_type": "code",
      "execution_count": 11,
      "metadata": {
        "colab": {
          "base_uri": "https://localhost:8080/"
        },
        "id": "ARjFYmlIk7WK",
        "outputId": "cc2afb40-8c01-4581-d82d-fb656cf9fcc8"
      },
      "outputs": [
        {
          "name": "stdout",
          "output_type": "stream",
          "text": [
            "                             Source  weight\n",
            "584                  Data Scientist    1846\n",
            "338                    Data Analyst     783\n",
            "446                   Data Engineer     667\n",
            "1527          Senior Data Scientist     235\n",
            "1028      Machine Learning Engineer      62\n",
            "1509           Senior Data Engineer      60\n",
            "1497            Senior Data Analyst      60\n",
            "150               Big Data Engineer      52\n",
            "202   Business Intelligence Analyst      45\n",
            "1396                      Scientist      34\n",
            "998             Lead Data Scientist      29\n",
            "1737             Sr. Data Scientist      26\n",
            "443               Data Architect II      20\n",
            "540                    Data Modeler      19\n",
            "1191       Principal Data Scientist      19\n"
          ]
        }
      ],
      "source": [
        "node_sizes = nt.groupby('Source').weight.agg(sum)\n",
        "n = node_sizes.add_suffix('').reset_index()\n",
        "top_15 =n.sort_values(by='weight', ascending=False).head(15)\n",
        "print(top_15)"
      ]
    },
    {
      "cell_type": "markdown",
      "metadata": {
        "id": "WgmJLVbRk7WK"
      },
      "source": [
        "Outputs a data frame showing the top 15 'sources' with the most 'weight' associated with the same Job Title and the same Industry and their total 'weight'."
      ]
    },
    {
      "cell_type": "markdown",
      "metadata": {
        "id": "lbCkTrBxk7WL"
      },
      "source": [
        "Number of nodes and edges for Job + Salary"
      ]
    },
    {
      "cell_type": "code",
      "execution_count": 12,
      "metadata": {
        "colab": {
          "base_uri": "https://localhost:8080/"
        },
        "id": "pQG6fQDbk7WL",
        "outputId": "1f15b9e3-5c60-4577-cd12-2e45501c863f"
      },
      "outputs": [
        {
          "name": "stdout",
          "output_type": "stream",
          "text": [
            "Number of nodes: 2010\n",
            "Number of edges: 2789\n",
            "Average degree: 2.7751243781094526\n"
          ]
        }
      ],
      "source": [
        "import networkx as nx\n",
        "\n",
        "G = nx.from_pandas_edgelist(nt, 'Source', 'Target', ['weight'])\n",
        "print(\"Number of nodes:\", G.number_of_nodes())\n",
        "print(\"Number of edges:\", G.number_of_edges())\n",
        "print(\"Average degree:\", sum(dict(G.degree()).values()) / G.number_of_nodes())\n"
      ]
    },
    {
      "cell_type": "markdown",
      "metadata": {
        "id": "MAWMSaZDk7WL"
      },
      "source": [
        "## **Degree Centrality**\n",
        "\n",
        "Degree centrality, indicating the number of connections a node has, can indirectly suggest the node's importance in a network. By removing nodes with low degree centrality, the network structure can be simplified, retaining only the core nodes and connections. This filtered network is advantageous for emphasizing the quality of connections, thereby enhancing the clarity of network analysis and visualization.\n",
        "\n",
        "Degree centrality was chosen because we believed that the number of direct connections in the network was important. This is because they are looking for the most ‘popular’ or ‘active’ jobs.\n",
        "\n",
        "Degree centrality is calculated, and nodes with a value below the median are removed, facilitating the reduction of node size."
      ]
    },
    {
      "cell_type": "code",
      "execution_count": 13,
      "metadata": {
        "colab": {
          "base_uri": "https://localhost:8080/"
        },
        "id": "3EfEU_MWk7WL",
        "outputId": "bd3685b7-f0e9-4f4c-dbf5-14031dc5570a"
      },
      "outputs": [
        {
          "name": "stdout",
          "output_type": "stream",
          "text": [
            "Top 10 nodes by eigenvector centrality:\n",
            "Data Engineer: 0.04579392732702837\n",
            "Data Analyst: 0.03633648581383773\n",
            "$111K-$175K: 0.022896963663514184\n",
            "$71K-$122K: 0.020905923344947733\n",
            "Senior Data Scientist: 0.02040816326530612\n",
            "$93K-$151K: 0.02040816326530612\n",
            "Data Scientist: 0.017421602787456445\n",
            "Senior Data Analyst: 0.016923842707814832\n",
            "$113K-$180K: 0.015928322548531607\n",
            "Business Intelligence Analyst: 0.015430562468889995\n"
          ]
        }
      ],
      "source": [
        "# Compute the degree centrality of G: deg_cen\n",
        "deg_cen = nx.degree_centrality(G)\n",
        "sorted_deg_cen=sorted(deg_cen.items(), key=lambda x:x[1], reverse=True)\n",
        "\n",
        "top_10_degree = sorted_deg_cen[:10]\n",
        "bottom_10_degree = sorted_deg_cen[-10:]\n",
        "\n",
        "print(\"Top 10 nodes by eigenvector centrality:\")\n",
        "for node, value in top_10_degree:\n",
        "    print(f\"{node}: {value}\")\n",
        "\n",
        "#print(\"\\nBottom 10 nodes by eigenvector centrality:\")\n",
        "#for node, value in bottom_10_degree:\n",
        "#    print(f\"{node}: {value}\")"
      ]
    },
    {
      "cell_type": "code",
      "execution_count": 14,
      "metadata": {
        "colab": {
          "base_uri": "https://localhost:8080/"
        },
        "id": "8FmnhCiPk7WM",
        "outputId": "df605116-154a-4f9a-d09c-472131584169"
      },
      "outputs": [
        {
          "name": "stdout",
          "output_type": "stream",
          "text": [
            "Mean Degree Centrality: 0.0013813461314631425\n",
            "Max Degree Centrality: 0.04579392732702837\n",
            "Min Degree Centrality: 0.0004977600796416127\n",
            "Median Degree Centrality: 0.0004977600796416127\n"
          ]
        }
      ],
      "source": [
        "import numpy as np\n",
        "\n",
        "\n",
        "# Convert degree centrality values ​​to a list\n",
        "degree_centrality_values = [value for node, value in deg_cen.items()]\n",
        "\n",
        "# Calculate the average, maximum, minimum, and median of degree centrality values\n",
        "mean_degree_centrality = np.mean(degree_centrality_values)\n",
        "max_degree_centrality = np.max(degree_centrality_values)\n",
        "min_degree_centrality = np.min(degree_centrality_values)\n",
        "median_degree_centrality = np.median(degree_centrality_values)\n",
        "\n",
        "print(f\"Mean Degree Centrality: {mean_degree_centrality}\")\n",
        "print(f\"Max Degree Centrality: {max_degree_centrality}\")\n",
        "print(f\"Min Degree Centrality: {min_degree_centrality}\")\n",
        "print(f\"Median Degree Centrality: {median_degree_centrality}\")"
      ]
    },
    {
      "cell_type": "code",
      "execution_count": 15,
      "metadata": {
        "colab": {
          "base_uri": "https://localhost:8080/"
        },
        "id": "ztpxy1uqk7WM",
        "outputId": "7b40847a-1808-4a70-86ed-8af6776c34fc"
      },
      "outputs": [
        {
          "name": "stdout",
          "output_type": "stream",
          "text": [
            "Number of nodes: 378\n",
            "Number of edges: 1158\n",
            "Average degree: 6.126984126984127\n"
          ]
        }
      ],
      "source": [
        "import networkx as nx\n",
        "\n",
        "G = nx.from_pandas_edgelist(nt, 'Source', 'Target', ['weight'])\n",
        "\n",
        "# Exclude nodes with degree centrality below the median\n",
        "nodes_to_remove = [n for n, centrality in deg_cen.items() if centrality <= median_degree_centrality]\n",
        "G.remove_nodes_from(nodes_to_remove)\n",
        "\n",
        "print(\"Number of nodes:\", G.number_of_nodes())\n",
        "print(\"Number of edges:\", G.number_of_edges())\n",
        "print(\"Average degree:\", sum(dict(G.degree()).values()) / G.number_of_nodes())"
      ]
    },
    {
      "cell_type": "markdown",
      "metadata": {
        "id": "FdZLtBQ-wHXX"
      },
      "source": [
        "Data Sceintist has the highest weight even node size is reduced. In this dataset, Data Sceintist, Data Analyst, and Data Engineer has the most total weight."
      ]
    },
    {
      "cell_type": "code",
      "execution_count": 16,
      "metadata": {
        "colab": {
          "base_uri": "https://localhost:8080/"
        },
        "id": "2c1LmSTHm2s6",
        "outputId": "bfd8b9ea-e5a1-4434-e91d-b0c947640034"
      },
      "outputs": [
        {
          "name": "stdout",
          "output_type": "stream",
          "text": [
            "Node: Data Scientist, Total Weight: 210\n",
            "Node: Data Analyst, Total Weight: 209\n",
            "Node: Data Engineer, Total Weight: 207\n",
            "Node: Senior Data Scientist, Total Weight: 81\n",
            "Node: Senior Data Analyst, Total Weight: 42\n",
            "Node: $113K-$180K, Total Weight: 41\n",
            "Node: $93K-$151K, Total Weight: 40\n",
            "Node: Machine Learning Engineer, Total Weight: 38\n",
            "Node: Business Intelligence Analyst, Total Weight: 35\n",
            "Node: Senior Data Engineer, Total Weight: 34\n",
            "Node: Big Data Engineer, Total Weight: 30\n",
            "Node: $111K-$175K, Total Weight: 30\n",
            "Node: $119K-$147K, Total Weight: 25\n",
            "Node: Lead Data Scientist, Total Weight: 23\n",
            "Node: $94K-$151K, Total Weight: 23\n"
          ]
        }
      ],
      "source": [
        "\n",
        "node_weights = {node: sum(weight for _, _, weight in G.edges(node, data='weight')) for node in G.nodes}\n",
        "\n",
        "top_15_nodes = sorted(node_weights.items(), key=lambda x: x[1], reverse=True)[:15]\n",
        "\n",
        "for node, weight in top_15_nodes:\n",
        "    print(f\"Node: {node}, Total Weight: {weight}\")"
      ]
    },
    {
      "cell_type": "markdown",
      "metadata": {
        "id": "0Ufe05KPk7WM"
      },
      "source": [
        "## **Visualizaton**\n",
        "\n",
        "Job + Salary Estimate"
      ]
    },
    {
      "cell_type": "code",
      "execution_count": 17,
      "metadata": {
        "colab": {
          "base_uri": "https://localhost:8080/",
          "height": 384
        },
        "id": "PP-NitvGk7WM",
        "outputId": "69dd82c4-49e1-404e-f258-a697b53507ca"
      },
      "outputs": [
        {
          "name": "stdout",
          "output_type": "stream",
          "text": [
            "Warning: When  cdn_resources is 'local' jupyter notebook has issues displaying graphics on chrome/safari. Use cdn_resources='in_line' or cdn_resources='remote' if you have issues viewing graphics in a notebook.\n"
          ]
        }
      ],
      "source": [
        "from pyvis.network import Network\n",
        "\n",
        "net = Network(notebook=True)\n",
        "\n",
        "node_total_weight = {node: sum(weight for _, _, weight in G.edges(node, data='weight')) for node in G.nodes()}\n",
        "\n",
        "\n",
        "for n in G.nodes():\n",
        "    if n == 'Data Scientist':\n",
        "        color = 'green'\n",
        "    elif n in nt['Source'].tolist():\n",
        "        color = 'skyblue'\n",
        "    elif n in nt['Target'].tolist():\n",
        "        color = 'indianred'\n",
        "    else:\n",
        "        continue\n",
        "\n",
        "    # set size based on degree (number of edges)\n",
        "    size = 5 + (node_total_weight[n] / max(node_total_weight.values())) * 100\n",
        "    net.add_node(n, label=n, color=color, size=size)\n",
        "\n",
        "# add edges\n",
        "for edge in G.edges():\n",
        "    source, target = edge\n",
        "    if 'Data Scientist' in [source, target]:\n",
        "        edge_color = 'green'\n",
        "    else:\n",
        "        edge_color = 'lightgray'\n",
        "    if source in net.get_nodes() and target in net.get_nodes():\n",
        "        net.add_edge(source, target, color=edge_color)\n",
        "\n",
        "\n",
        "# show buttons for filtering nodes\n",
        "net.show_buttons(filter_=['nodes'])\n",
        "net.save_graph('JS.html')\n"
      ]
    },
    {
      "cell_type": "markdown",
      "metadata": {
        "id": "OvRo23nIwp72"
      },
      "source": [
        "## **Node Size (Job + Industry)**\n",
        "\n",
        "The node sizes appear to be quite large. As done previously, the degree centrality values will be calculated and any values smaller than the median will be dropped."
      ]
    },
    {
      "cell_type": "code",
      "execution_count": 18,
      "metadata": {
        "colab": {
          "base_uri": "https://localhost:8080/"
        },
        "id": "ereig_tlk7WN",
        "outputId": "b3195a19-ed74-4705-c121-f2a57a724b7b"
      },
      "outputs": [
        {
          "name": "stdout",
          "output_type": "stream",
          "text": [
            "Number of nodes: 1957\n",
            "Number of edges: 2381\n",
            "Average degree: 2.4333163004598877\n"
          ]
        }
      ],
      "source": [
        "import networkx as nx\n",
        "\n",
        "G = nx.from_pandas_edgelist(nt2, 'source', 'target', ['weight'])\n",
        "print(\"Number of nodes:\", G.number_of_nodes())\n",
        "print(\"Number of edges:\", G.number_of_edges())\n",
        "print(\"Average degree:\", sum(dict(G.degree()).values()) / G.number_of_nodes())\n"
      ]
    },
    {
      "cell_type": "code",
      "execution_count": 19,
      "metadata": {
        "colab": {
          "base_uri": "https://localhost:8080/"
        },
        "id": "gcLJxrb1k7WN",
        "outputId": "63cc5e33-6a94-4658-dc15-108ddeb30316"
      },
      "outputs": [
        {
          "name": "stdout",
          "output_type": "stream",
          "text": [
            "Top 10 nodes by degree centrality:\n",
            "Biotech & Pharmaceuticals: 0.1395705521472393\n",
            "IT Services: 0.11400817995910022\n",
            "Computer Hardware & Software: 0.09458077709611452\n",
            "Staffing & Outsourcing: 0.09304703476482619\n",
            "Internet: 0.08282208588957056\n",
            "Health Care Services & Hospitals: 0.08282208588957056\n",
            "Consulting: 0.05316973415132925\n",
            "Investment Banking & Asset Management: 0.04703476482617587\n",
            "Enterprise Software & Network Solutions: 0.04550102249488753\n",
            "Colleges & Universities: 0.033742331288343565\n"
          ]
        }
      ],
      "source": [
        "# Compute the degree centrality of G: deg_cen\n",
        "deg_cen = nx.degree_centrality(G)\n",
        "sorted_deg_cen=sorted(deg_cen.items(), key=lambda x:x[1], reverse=True)\n",
        "\n",
        "top_10_degree = sorted_deg_cen[:10]\n",
        "bottom_10_degree = sorted_deg_cen[-10:]\n",
        "\n",
        "print(\"Top 10 nodes by degree centrality:\")\n",
        "for node, value in top_10_degree:\n",
        "    print(f\"{node}: {value}\")\n",
        "\n",
        "#print(\"\\nBottom 10 nodes by eigenvector centrality:\")\n",
        "#for node, value in bottom_10_degree:\n",
        "#    print(f\"{node}: {value}\")"
      ]
    },
    {
      "cell_type": "code",
      "execution_count": 20,
      "metadata": {
        "colab": {
          "base_uri": "https://localhost:8080/"
        },
        "id": "zrYm8cZyk7WO",
        "outputId": "56f0ce8b-01b8-4cd5-93ee-5c65e591239a"
      },
      "outputs": [
        {
          "name": "stdout",
          "output_type": "stream",
          "text": [
            "Mean Degree Centrality: 0.0012440267384764253\n",
            "Max Degree Centrality: 0.1395705521472393\n",
            "Min Degree Centrality: 0.0005112474437627812\n",
            "Median Degree Centrality: 0.0005112474437627812\n"
          ]
        }
      ],
      "source": [
        "import numpy as np\n",
        "\n",
        "\n",
        "# Convert degree centrality values ​​to a list\n",
        "degree_centrality_values = [value for node, value in deg_cen.items()]\n",
        "\n",
        "# Calculate the average, maximum, minimum, and median of degree centrality values\n",
        "mean_degree_centrality = np.mean(degree_centrality_values)\n",
        "max_degree_centrality = np.max(degree_centrality_values)\n",
        "min_degree_centrality = np.min(degree_centrality_values)\n",
        "median_degree_centrality = np.median(degree_centrality_values)\n",
        "\n",
        "print(f\"Mean Degree Centrality: {mean_degree_centrality}\")\n",
        "print(f\"Max Degree Centrality: {max_degree_centrality}\")\n",
        "print(f\"Min Degree Centrality: {min_degree_centrality}\")\n",
        "print(f\"Median Degree Centrality: {median_degree_centrality}\")"
      ]
    },
    {
      "cell_type": "markdown",
      "metadata": {
        "id": "D6EEffAGAJzs"
      },
      "source": [
        "By dropping nodes smaller than the median in degree centrality, the number of node became 88% smaller than the orginal."
      ]
    },
    {
      "cell_type": "code",
      "execution_count": 21,
      "metadata": {
        "colab": {
          "base_uri": "https://localhost:8080/"
        },
        "id": "KeCsQbxrk7WO",
        "outputId": "738816bc-2731-48bf-d70c-cc9f59ead81a"
      },
      "outputs": [
        {
          "name": "stdout",
          "output_type": "stream",
          "text": [
            "Number of nodes: 229\n",
            "Number of edges: 659\n",
            "Average degree: 5.755458515283843\n"
          ]
        }
      ],
      "source": [
        "import networkx as nx\n",
        "\n",
        "G = nx.from_pandas_edgelist(nt2, 'source', 'target', ['weight'])\n",
        "\n",
        "# Exclude nodes with degree centrality below the median\n",
        "nodes_to_remove = [n for n, centrality in deg_cen.items() if centrality <= median_degree_centrality]\n",
        "G.remove_nodes_from(nodes_to_remove)\n",
        "\n",
        "print(\"Number of nodes:\", G.number_of_nodes())\n",
        "print(\"Number of edges:\", G.number_of_edges())\n",
        "print(\"Average degree:\", sum(dict(G.degree()).values()) / G.number_of_nodes())"
      ]
    },
    {
      "cell_type": "code",
      "execution_count": 22,
      "metadata": {
        "colab": {
          "base_uri": "https://localhost:8080/"
        },
        "id": "zNNI02kNxUuw",
        "outputId": "97c92988-1cb7-46bd-8722-0a5b2ebcd769"
      },
      "outputs": [
        {
          "name": "stdout",
          "output_type": "stream",
          "text": [
            "Node: IT Services, Total Weight: 237\n",
            "Node: Data Scientist, Total Weight: 207\n",
            "Node: Data Engineer, Total Weight: 207\n",
            "Node: Data Analyst, Total Weight: 206\n",
            "Node: Staffing & Outsourcing, Total Weight: 172\n",
            "Node: Computer Hardware & Software, Total Weight: 93\n",
            "Node: Internet, Total Weight: 92\n",
            "Node: Enterprise Software & Network Solutions, Total Weight: 82\n",
            "Node: Senior Data Scientist, Total Weight: 81\n",
            "Node: Consulting, Total Weight: 79\n",
            "Node: Health Care Services & Hospitals, Total Weight: 65\n",
            "Node: Advertising & Marketing, Total Weight: 61\n",
            "Node: Investment Banking & Asset Management, Total Weight: 42\n",
            "Node: Senior Data Analyst, Total Weight: 42\n",
            "Node: Biotech & Pharmaceuticals, Total Weight: 39\n"
          ]
        }
      ],
      "source": [
        "node_weights = {node: sum(weight for _, _, weight in G.edges(node, data='weight')) for node in G.nodes}\n",
        "\n",
        "top_15_nodes = sorted(node_weights.items(), key=lambda x: x[1], reverse=True)[:15]\n",
        "\n",
        "for node, weight in top_15_nodes:\n",
        "    print(f\"Node: {node}, Total Weight: {weight}\")"
      ]
    },
    {
      "cell_type": "markdown",
      "metadata": {
        "id": "mavDTexOTMuy"
      },
      "source": [
        "## **Visualization (Job + Industry)**\n",
        "\n",
        "The nodes shown in red in the graph are nodes connected to 'data scientist', which represents another industry that plays an important role in the data science field.\n",
        "\n",
        "These visualizations are useful for understanding the interactions and importance of data science-related occupations. This will help understand which industry frequently collaborate with data scientists and which roles are central to the data science field."
      ]
    },
    {
      "cell_type": "code",
      "execution_count": 23,
      "metadata": {
        "colab": {
          "base_uri": "https://localhost:8080/",
          "height": 384
        },
        "id": "qrrTazNNk7WP",
        "outputId": "45bf2b93-69e5-409e-aa97-c1f99a89a020"
      },
      "outputs": [
        {
          "name": "stdout",
          "output_type": "stream",
          "text": [
            "Warning: When  cdn_resources is 'local' jupyter notebook has issues displaying graphics on chrome/safari. Use cdn_resources='in_line' or cdn_resources='remote' if you have issues viewing graphics in a notebook.\n"
          ]
        }
      ],
      "source": [
        "from pyvis.network import Network\n",
        "\n",
        "net = Network(notebook=True)\n",
        "\n",
        "\n",
        "connected_to_data_scientist = set()\n",
        "connected_to_data_engineer = set()\n",
        "connected_to_data_analyst = set()\n",
        "\n",
        "for edge in G.edges(data=True):\n",
        "    source, target, _ = edge\n",
        "    if 'Data Scientist' in [source, target]:\n",
        "        connected_to_data_scientist.update([source, target])\n",
        "    if 'Data Engineer' in [source, target]:\n",
        "        connected_to_data_engineer.update([source, target])\n",
        "    if 'Data Analyst' in [source, target]:\n",
        "        connected_to_data_analyst.update([source, target])\n",
        "\n",
        "\n",
        "node_total_weight = {node: sum(weight for _, _, weight in G.edges(node, data='weight')) for node in G.nodes()}\n",
        "\n",
        "\n",
        "for n in G.nodes():\n",
        "    color = 'skyblue'\n",
        "    if n == 'Data Scientist':\n",
        "        color = 'green'\n",
        "    elif n in connected_to_data_scientist:\n",
        "        color = 'red'\n",
        "    elif n == 'Data Engineer':\n",
        "        color = 'gold'\n",
        "    elif n == 'Data Analyst':\n",
        "        color = 'pink'\n",
        "\n",
        "    size = 5 + 1.5 * G.degree(n)\n",
        "    net.add_node(n, label=n, color=color, size=size)\n",
        "\n",
        "\n",
        "for edge in G.edges(data=True):\n",
        "    source, target, data = edge\n",
        "    edge_color = 'lightgray'\n",
        "    if 'Data Scientist' in [source, target]:\n",
        "        edge_color = 'green'\n",
        "    if 'Data Engineer' in [source, target]:\n",
        "        edge_color = 'gold'\n",
        "    if 'Data Analyst' in [source, target]:\n",
        "        edge_color = 'pink'\n",
        "\n",
        "    net.add_edge(source, target, color=edge_color)\n",
        "\n",
        "net.show_buttons(filter_=['nodes'])\n",
        "net.save_graph('JI.html')\n"
      ]
    },
    {
      "cell_type": "markdown",
      "metadata": {
        "id": "G4zM2ULQ91DY"
      },
      "source": [
        "## **Conclusion**\n",
        "\n",
        "From the graph, it is evident that the salary range in Data Science is highly varied. Notably, not only data scientists but also data engineers and data analysts exhibit a wide salary range. Of significance is the observation that all three occupations are connected to nodes representing high salaries. Moreover, when the term \"data\" is included in most job titles, it tends to correspond to higher salary ranges.\n",
        "\n",
        "One might ask about the industries that predominantly offer these high-paying jobs, which is where the second graph becomes relevant.\n",
        "\n",
        "Data scientists have the opportunity to work across various industries. As anticipated, the graphs reveal substantial employment in IT services, healthcare, biotech & pharmaceuticals, consulting, staffing & outsourcing, Computer Hardware & Software and other sectors.\n",
        "\n",
        "Furthermore, the second graph indicates a significant overlap in the industries of data analysts and data engineers, indicating a strong correlation."
      ]
    },
    {
      "cell_type": "code",
      "execution_count": null,
      "metadata": {
        "id": "1b87gndHk7WP"
      },
      "outputs": [],
      "source": []
    }
  ],
  "metadata": {
    "colab": {
      "provenance": []
    },
    "kernelspec": {
      "display_name": "Python 3",
      "language": "python",
      "name": "python3"
    },
    "language_info": {
      "codemirror_mode": {
        "name": "ipython",
        "version": 3
      },
      "file_extension": ".py",
      "mimetype": "text/x-python",
      "name": "python",
      "nbconvert_exporter": "python",
      "pygments_lexer": "ipython3",
      "version": "3.11.1"
    },
    "orig_nbformat": 4
  },
  "nbformat": 4,
  "nbformat_minor": 0
}
